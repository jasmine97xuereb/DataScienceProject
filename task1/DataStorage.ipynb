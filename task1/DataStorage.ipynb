{
 "cells": [
  {
   "cell_type": "code",
   "execution_count": 1,
   "metadata": {},
   "outputs": [],
   "source": [
    "from neo4j.v1 import GraphDatabase\n",
    "from neo4j.v1 import Node \n",
    "import numpy as np\n",
    "from matplotlib import pyplot as plt\n",
    "import pandas as pd"
   ]
  },
  {
   "cell_type": "code",
   "execution_count": 2,
   "metadata": {},
   "outputs": [],
   "source": [
    "uri = \"bolt://neo4j:7687\"\n",
    "graph = GraphDatabase.driver(uri)"
   ]
  },
  {
   "cell_type": "markdown",
   "metadata": {},
   "source": [
    "# Number of articles found"
   ]
  },
  {
   "cell_type": "code",
   "execution_count": 3,
   "metadata": {},
   "outputs": [],
   "source": [
    "#count the number of DISTINCT titles found in the graphDB\n",
    "def get_article_count(tx):\n",
    "    count = 0\n",
    "    for record in tx.run(\"MATCH (a:Article) RETURN true\"):\n",
    "        count += 1\n",
    "    return count"
   ]
  },
  {
   "cell_type": "code",
   "execution_count": 4,
   "metadata": {},
   "outputs": [
    {
     "name": "stdout",
     "output_type": "stream",
     "text": [
      "Number of articles:  1872692\n"
     ]
    }
   ],
   "source": [
    "with graph.session() as session:\n",
    "    article_count = session.read_transaction(get_article_count)\n",
    "print(\"Number of articles: \", article_count)"
   ]
  },
  {
   "cell_type": "markdown",
   "metadata": {},
   "source": [
    "# Author that has published most articles"
   ]
  },
  {
   "cell_type": "code",
   "execution_count": 5,
   "metadata": {},
   "outputs": [],
   "source": [
    "#find the most connected author node\n",
    "#group by the size of the author list and return the largest one\n",
    "def get_most_popular_author(tx):\n",
    "    for record in tx.run(\"MATCH (a)-[r]->(b) RETURN a, COLLECT(a) as author ORDER BY SIZE(author) DESC LIMIT 1\"):\n",
    "        return (record['author'][0]['name'])    "
   ]
  },
  {
   "cell_type": "code",
   "execution_count": 6,
   "metadata": {},
   "outputs": [
    {
     "ename": "TransientError",
     "evalue": "There is not enough memory to perform the current task. Please try increasing 'dbms.memory.heap.max_size' in the neo4j configuration (normally in 'conf/neo4j.conf' or, if you you are using Neo4j Desktop, found through the user interface) or if you are running an embedded installation increase the heap by using '-Xmx' command line flag, and then restart the database.",
     "output_type": "error",
     "traceback": [
      "\u001b[0;31m---------------------------------------------------------------------------\u001b[0m",
      "\u001b[0;31mTransientError\u001b[0m                            Traceback (most recent call last)",
      "\u001b[0;32m<ipython-input-6-c10743365fe8>\u001b[0m in \u001b[0;36m<module>\u001b[0;34m\u001b[0m\n\u001b[1;32m      1\u001b[0m \u001b[0;32mwith\u001b[0m \u001b[0mgraph\u001b[0m\u001b[0;34m.\u001b[0m\u001b[0msession\u001b[0m\u001b[0;34m(\u001b[0m\u001b[0;34m)\u001b[0m \u001b[0;32mas\u001b[0m \u001b[0msession\u001b[0m\u001b[0;34m:\u001b[0m\u001b[0;34m\u001b[0m\u001b[0m\n\u001b[0;32m----> 2\u001b[0;31m     \u001b[0mmost_popular\u001b[0m \u001b[0;34m=\u001b[0m \u001b[0msession\u001b[0m\u001b[0;34m.\u001b[0m\u001b[0mread_transaction\u001b[0m\u001b[0;34m(\u001b[0m\u001b[0mget_most_popular_author\u001b[0m\u001b[0;34m)\u001b[0m\u001b[0;34m\u001b[0m\u001b[0m\n\u001b[0m\u001b[1;32m      3\u001b[0m \u001b[0mprint\u001b[0m\u001b[0;34m(\u001b[0m\u001b[0;34m\"Author that has published the most articles: \"\u001b[0m\u001b[0;34m,\u001b[0m \u001b[0mmost_popular\u001b[0m\u001b[0;34m)\u001b[0m\u001b[0;34m\u001b[0m\u001b[0m\n",
      "\u001b[0;32m/opt/conda/envs/py35/lib/python3.5/site-packages/neo4j/v1/api.py\u001b[0m in \u001b[0;36mread_transaction\u001b[0;34m(self, unit_of_work, *args, **kwargs)\u001b[0m\n\u001b[1;32m    498\u001b[0m \u001b[0;34m\u001b[0m\u001b[0m\n\u001b[1;32m    499\u001b[0m     \u001b[0;32mdef\u001b[0m \u001b[0mread_transaction\u001b[0m\u001b[0;34m(\u001b[0m\u001b[0mself\u001b[0m\u001b[0;34m,\u001b[0m \u001b[0munit_of_work\u001b[0m\u001b[0;34m,\u001b[0m \u001b[0;34m*\u001b[0m\u001b[0margs\u001b[0m\u001b[0;34m,\u001b[0m \u001b[0;34m**\u001b[0m\u001b[0mkwargs\u001b[0m\u001b[0;34m)\u001b[0m\u001b[0;34m:\u001b[0m\u001b[0;34m\u001b[0m\u001b[0m\n\u001b[0;32m--> 500\u001b[0;31m         \u001b[0;32mreturn\u001b[0m \u001b[0mself\u001b[0m\u001b[0;34m.\u001b[0m\u001b[0m_run_transaction\u001b[0m\u001b[0;34m(\u001b[0m\u001b[0mREAD_ACCESS\u001b[0m\u001b[0;34m,\u001b[0m \u001b[0munit_of_work\u001b[0m\u001b[0;34m,\u001b[0m \u001b[0;34m*\u001b[0m\u001b[0margs\u001b[0m\u001b[0;34m,\u001b[0m \u001b[0;34m**\u001b[0m\u001b[0mkwargs\u001b[0m\u001b[0;34m)\u001b[0m\u001b[0;34m\u001b[0m\u001b[0m\n\u001b[0m\u001b[1;32m    501\u001b[0m \u001b[0;34m\u001b[0m\u001b[0m\n\u001b[1;32m    502\u001b[0m     \u001b[0;32mdef\u001b[0m \u001b[0mwrite_transaction\u001b[0m\u001b[0;34m(\u001b[0m\u001b[0mself\u001b[0m\u001b[0;34m,\u001b[0m \u001b[0munit_of_work\u001b[0m\u001b[0;34m,\u001b[0m \u001b[0;34m*\u001b[0m\u001b[0margs\u001b[0m\u001b[0;34m,\u001b[0m \u001b[0;34m**\u001b[0m\u001b[0mkwargs\u001b[0m\u001b[0;34m)\u001b[0m\u001b[0;34m:\u001b[0m\u001b[0;34m\u001b[0m\u001b[0m\n",
      "\u001b[0;32m/opt/conda/envs/py35/lib/python3.5/site-packages/neo4j/v1/api.py\u001b[0m in \u001b[0;36m_run_transaction\u001b[0;34m(self, access_mode, unit_of_work, *args, **kwargs)\u001b[0m\n\u001b[1;32m    493\u001b[0m             \u001b[0msleep\u001b[0m\u001b[0;34m(\u001b[0m\u001b[0mnext\u001b[0m\u001b[0;34m(\u001b[0m\u001b[0mretry_delay\u001b[0m\u001b[0;34m)\u001b[0m\u001b[0;34m)\u001b[0m\u001b[0;34m\u001b[0m\u001b[0m\n\u001b[1;32m    494\u001b[0m         \u001b[0;32mif\u001b[0m \u001b[0merrors\u001b[0m\u001b[0;34m:\u001b[0m\u001b[0;34m\u001b[0m\u001b[0m\n\u001b[0;32m--> 495\u001b[0;31m             \u001b[0;32mraise\u001b[0m \u001b[0merrors\u001b[0m\u001b[0;34m[\u001b[0m\u001b[0;34m-\u001b[0m\u001b[0;36m1\u001b[0m\u001b[0;34m]\u001b[0m\u001b[0;34m\u001b[0m\u001b[0m\n\u001b[0m\u001b[1;32m    496\u001b[0m         \u001b[0;32melse\u001b[0m\u001b[0;34m:\u001b[0m\u001b[0;34m\u001b[0m\u001b[0m\n\u001b[1;32m    497\u001b[0m             \u001b[0;32mraise\u001b[0m \u001b[0mServiceUnavailable\u001b[0m\u001b[0;34m(\u001b[0m\u001b[0;34m\"Transaction failed\"\u001b[0m\u001b[0;34m)\u001b[0m\u001b[0;34m\u001b[0m\u001b[0m\n",
      "\u001b[0;32m/opt/conda/envs/py35/lib/python3.5/site-packages/neo4j/v1/api.py\u001b[0m in \u001b[0;36m_run_transaction\u001b[0;34m(self, access_mode, unit_of_work, *args, **kwargs)\u001b[0m\n\u001b[1;32m    469\u001b[0m                 \u001b[0mtx\u001b[0m \u001b[0;34m=\u001b[0m \u001b[0mself\u001b[0m\u001b[0;34m.\u001b[0m\u001b[0m_transaction\u001b[0m\u001b[0;34m\u001b[0m\u001b[0m\n\u001b[1;32m    470\u001b[0m                 \u001b[0;32mtry\u001b[0m\u001b[0;34m:\u001b[0m\u001b[0;34m\u001b[0m\u001b[0m\n\u001b[0;32m--> 471\u001b[0;31m                     \u001b[0mresult\u001b[0m \u001b[0;34m=\u001b[0m \u001b[0munit_of_work\u001b[0m\u001b[0;34m(\u001b[0m\u001b[0mtx\u001b[0m\u001b[0;34m,\u001b[0m \u001b[0;34m*\u001b[0m\u001b[0margs\u001b[0m\u001b[0;34m,\u001b[0m \u001b[0;34m**\u001b[0m\u001b[0mkwargs\u001b[0m\u001b[0;34m)\u001b[0m\u001b[0;34m\u001b[0m\u001b[0m\n\u001b[0m\u001b[1;32m    472\u001b[0m                 \u001b[0;32mexcept\u001b[0m\u001b[0;34m:\u001b[0m\u001b[0;34m\u001b[0m\u001b[0m\n\u001b[1;32m    473\u001b[0m                     \u001b[0;32mif\u001b[0m \u001b[0mtx\u001b[0m\u001b[0;34m.\u001b[0m\u001b[0msuccess\u001b[0m \u001b[0;32mis\u001b[0m \u001b[0;32mNone\u001b[0m\u001b[0;34m:\u001b[0m\u001b[0;34m\u001b[0m\u001b[0m\n",
      "\u001b[0;32m<ipython-input-5-6e46fa6b1cd5>\u001b[0m in \u001b[0;36mget_most_popular_author\u001b[0;34m(tx)\u001b[0m\n\u001b[1;32m      2\u001b[0m \u001b[0;31m#group by the size of the author list and return the largest one\u001b[0m\u001b[0;34m\u001b[0m\u001b[0;34m\u001b[0m\u001b[0m\n\u001b[1;32m      3\u001b[0m \u001b[0;32mdef\u001b[0m \u001b[0mget_most_popular_author\u001b[0m\u001b[0;34m(\u001b[0m\u001b[0mtx\u001b[0m\u001b[0;34m)\u001b[0m\u001b[0;34m:\u001b[0m\u001b[0;34m\u001b[0m\u001b[0m\n\u001b[0;32m----> 4\u001b[0;31m     \u001b[0;32mfor\u001b[0m \u001b[0mrecord\u001b[0m \u001b[0;32min\u001b[0m \u001b[0mtx\u001b[0m\u001b[0;34m.\u001b[0m\u001b[0mrun\u001b[0m\u001b[0;34m(\u001b[0m\u001b[0;34m\"MATCH (a)-[r]->(b) RETURN a, COLLECT(a) as author ORDER BY SIZE(author) DESC LIMIT 1\"\u001b[0m\u001b[0;34m)\u001b[0m\u001b[0;34m:\u001b[0m\u001b[0;34m\u001b[0m\u001b[0m\n\u001b[0m\u001b[1;32m      5\u001b[0m         \u001b[0;32mreturn\u001b[0m \u001b[0;34m(\u001b[0m\u001b[0mrecord\u001b[0m\u001b[0;34m[\u001b[0m\u001b[0;34m'author'\u001b[0m\u001b[0;34m]\u001b[0m\u001b[0;34m[\u001b[0m\u001b[0;36m0\u001b[0m\u001b[0;34m]\u001b[0m\u001b[0;34m[\u001b[0m\u001b[0;34m'name'\u001b[0m\u001b[0;34m]\u001b[0m\u001b[0;34m)\u001b[0m\u001b[0;34m\u001b[0m\u001b[0m\n",
      "\u001b[0;32m/opt/conda/envs/py35/lib/python3.5/site-packages/neo4j/v1/api.py\u001b[0m in \u001b[0;36mrecords\u001b[0;34m(self)\u001b[0m\n\u001b[1;32m    734\u001b[0m             \u001b[0mself\u001b[0m\u001b[0;34m.\u001b[0m\u001b[0m_session\u001b[0m\u001b[0;34m.\u001b[0m\u001b[0msend\u001b[0m\u001b[0;34m(\u001b[0m\u001b[0;34m)\u001b[0m\u001b[0;34m\u001b[0m\u001b[0m\n\u001b[1;32m    735\u001b[0m         \u001b[0;32mwhile\u001b[0m \u001b[0mattached\u001b[0m\u001b[0;34m(\u001b[0m\u001b[0;34m)\u001b[0m\u001b[0;34m:\u001b[0m\u001b[0;34m\u001b[0m\u001b[0m\n\u001b[0;32m--> 736\u001b[0;31m             \u001b[0mself\u001b[0m\u001b[0;34m.\u001b[0m\u001b[0m_session\u001b[0m\u001b[0;34m.\u001b[0m\u001b[0mfetch\u001b[0m\u001b[0;34m(\u001b[0m\u001b[0;34m)\u001b[0m\u001b[0;34m\u001b[0m\u001b[0m\n\u001b[0m\u001b[1;32m    737\u001b[0m             \u001b[0;32mwhile\u001b[0m \u001b[0mrecords\u001b[0m\u001b[0;34m:\u001b[0m\u001b[0;34m\u001b[0m\u001b[0m\n\u001b[1;32m    738\u001b[0m                 \u001b[0;32myield\u001b[0m \u001b[0mnext_record\u001b[0m\u001b[0;34m(\u001b[0m\u001b[0;34m)\u001b[0m\u001b[0;34m\u001b[0m\u001b[0m\n",
      "\u001b[0;32m/opt/conda/envs/py35/lib/python3.5/site-packages/neo4j/v1/api.py\u001b[0m in \u001b[0;36mfetch\u001b[0;34m(self)\u001b[0m\n\u001b[1;32m    345\u001b[0m         \"\"\"\n\u001b[1;32m    346\u001b[0m         \u001b[0;32mif\u001b[0m \u001b[0mself\u001b[0m\u001b[0;34m.\u001b[0m\u001b[0m_connection\u001b[0m\u001b[0;34m:\u001b[0m\u001b[0;34m\u001b[0m\u001b[0m\n\u001b[0;32m--> 347\u001b[0;31m             \u001b[0mdetail_count\u001b[0m\u001b[0;34m,\u001b[0m \u001b[0m_\u001b[0m \u001b[0;34m=\u001b[0m \u001b[0mself\u001b[0m\u001b[0;34m.\u001b[0m\u001b[0m_connection\u001b[0m\u001b[0;34m.\u001b[0m\u001b[0mfetch\u001b[0m\u001b[0;34m(\u001b[0m\u001b[0;34m)\u001b[0m\u001b[0;34m\u001b[0m\u001b[0m\n\u001b[0m\u001b[1;32m    348\u001b[0m             \u001b[0;32mreturn\u001b[0m \u001b[0mdetail_count\u001b[0m\u001b[0;34m\u001b[0m\u001b[0m\n\u001b[1;32m    349\u001b[0m         \u001b[0;32mreturn\u001b[0m \u001b[0;36m0\u001b[0m\u001b[0;34m\u001b[0m\u001b[0m\n",
      "\u001b[0;32m/opt/conda/envs/py35/lib/python3.5/site-packages/neo4j/bolt/connection.py\u001b[0m in \u001b[0;36mfetch\u001b[0;34m(self)\u001b[0m\n\u001b[1;32m    288\u001b[0m     \u001b[0;32mdef\u001b[0m \u001b[0mfetch\u001b[0m\u001b[0;34m(\u001b[0m\u001b[0mself\u001b[0m\u001b[0;34m)\u001b[0m\u001b[0;34m:\u001b[0m\u001b[0;34m\u001b[0m\u001b[0m\n\u001b[1;32m    289\u001b[0m         \u001b[0;32mtry\u001b[0m\u001b[0;34m:\u001b[0m\u001b[0;34m\u001b[0m\u001b[0m\n\u001b[0;32m--> 290\u001b[0;31m             \u001b[0;32mreturn\u001b[0m \u001b[0mself\u001b[0m\u001b[0;34m.\u001b[0m\u001b[0m_fetch\u001b[0m\u001b[0;34m(\u001b[0m\u001b[0;34m)\u001b[0m\u001b[0;34m\u001b[0m\u001b[0m\n\u001b[0m\u001b[1;32m    291\u001b[0m         \u001b[0;32mexcept\u001b[0m \u001b[0mself\u001b[0m\u001b[0;34m.\u001b[0m\u001b[0merror_handler\u001b[0m\u001b[0;34m.\u001b[0m\u001b[0mknown_errors\u001b[0m \u001b[0;32mas\u001b[0m \u001b[0merror\u001b[0m\u001b[0;34m:\u001b[0m\u001b[0;34m\u001b[0m\u001b[0m\n\u001b[1;32m    292\u001b[0m             \u001b[0mself\u001b[0m\u001b[0;34m.\u001b[0m\u001b[0merror_handler\u001b[0m\u001b[0;34m.\u001b[0m\u001b[0mhandle\u001b[0m\u001b[0;34m(\u001b[0m\u001b[0merror\u001b[0m\u001b[0;34m,\u001b[0m \u001b[0mself\u001b[0m\u001b[0;34m.\u001b[0m\u001b[0maddress\u001b[0m\u001b[0;34m)\u001b[0m\u001b[0;34m\u001b[0m\u001b[0m\n",
      "\u001b[0;32m/opt/conda/envs/py35/lib/python3.5/site-packages/neo4j/bolt/connection.py\u001b[0m in \u001b[0;36m_fetch\u001b[0;34m(self)\u001b[0m\n\u001b[1;32m    328\u001b[0m             \u001b[0mself\u001b[0m\u001b[0;34m.\u001b[0m\u001b[0m_last_run_statement\u001b[0m \u001b[0;34m=\u001b[0m \u001b[0;32mNone\u001b[0m\u001b[0;34m\u001b[0m\u001b[0m\n\u001b[1;32m    329\u001b[0m             \u001b[0mlog_debug\u001b[0m\u001b[0;34m(\u001b[0m\u001b[0;34m\"S: FAILURE (%r)\"\u001b[0m\u001b[0;34m,\u001b[0m \u001b[0msummary_metadata\u001b[0m\u001b[0;34m)\u001b[0m\u001b[0;34m\u001b[0m\u001b[0m\n\u001b[0;32m--> 330\u001b[0;31m             \u001b[0mresponse\u001b[0m\u001b[0;34m.\u001b[0m\u001b[0mon_failure\u001b[0m\u001b[0;34m(\u001b[0m\u001b[0msummary_metadata\u001b[0m \u001b[0;32mor\u001b[0m \u001b[0;34m{\u001b[0m\u001b[0;34m}\u001b[0m\u001b[0;34m)\u001b[0m\u001b[0;34m\u001b[0m\u001b[0m\n\u001b[0m\u001b[1;32m    331\u001b[0m         \u001b[0;32melse\u001b[0m\u001b[0;34m:\u001b[0m\u001b[0;34m\u001b[0m\u001b[0m\n\u001b[1;32m    332\u001b[0m             \u001b[0mself\u001b[0m\u001b[0;34m.\u001b[0m\u001b[0m_last_run_statement\u001b[0m \u001b[0;34m=\u001b[0m \u001b[0;32mNone\u001b[0m\u001b[0;34m\u001b[0m\u001b[0m\n",
      "\u001b[0;32m/opt/conda/envs/py35/lib/python3.5/site-packages/neo4j/v1/result.py\u001b[0m in \u001b[0;36mon_failure\u001b[0;34m(metadata)\u001b[0m\n\u001b[1;32m     68\u001b[0m             \u001b[0mself\u001b[0m\u001b[0;34m.\u001b[0m\u001b[0msession\u001b[0m\u001b[0;34m.\u001b[0m\u001b[0m_connection\u001b[0m\u001b[0;34m.\u001b[0m\u001b[0macknowledge_failure\u001b[0m\u001b[0;34m(\u001b[0m\u001b[0;34m)\u001b[0m\u001b[0;34m\u001b[0m\u001b[0m\n\u001b[1;32m     69\u001b[0m             \u001b[0mon_footer\u001b[0m\u001b[0;34m(\u001b[0m\u001b[0mmetadata\u001b[0m\u001b[0;34m)\u001b[0m\u001b[0;34m\u001b[0m\u001b[0m\n\u001b[0;32m---> 70\u001b[0;31m             \u001b[0;32mraise\u001b[0m \u001b[0mCypherError\u001b[0m\u001b[0;34m.\u001b[0m\u001b[0mhydrate\u001b[0m\u001b[0;34m(\u001b[0m\u001b[0;34m**\u001b[0m\u001b[0mmetadata\u001b[0m\u001b[0;34m)\u001b[0m\u001b[0;34m\u001b[0m\u001b[0m\n\u001b[0m\u001b[1;32m     71\u001b[0m \u001b[0;34m\u001b[0m\u001b[0m\n\u001b[1;32m     72\u001b[0m         \u001b[0mrun_response\u001b[0m\u001b[0;34m.\u001b[0m\u001b[0mon_success\u001b[0m \u001b[0;34m=\u001b[0m \u001b[0mon_header\u001b[0m\u001b[0;34m\u001b[0m\u001b[0m\n",
      "\u001b[0;31mTransientError\u001b[0m: There is not enough memory to perform the current task. Please try increasing 'dbms.memory.heap.max_size' in the neo4j configuration (normally in 'conf/neo4j.conf' or, if you you are using Neo4j Desktop, found through the user interface) or if you are running an embedded installation increase the heap by using '-Xmx' command line flag, and then restart the database."
     ]
    }
   ],
   "source": [
    "with graph.session() as session:\n",
    "    most_popular = session.read_transaction(get_most_popular_author)\n",
    "print(\"Author that has published the most articles: \", most_popular)"
   ]
  },
  {
   "cell_type": "markdown",
   "metadata": {},
   "source": [
    "# Visualisation of Authorship Subgraph"
   ]
  },
  {
   "cell_type": "code",
   "execution_count": 7,
   "metadata": {},
   "outputs": [],
   "source": [
    "cs_members = ['Gordon J. Pace', 'Keith Bugeja', 'Christian Colombo', 'Adrian Francalanza', 'Mark Micallef', 'Sandro Spina', 'Kevin Vella']"
   ]
  },
  {
   "cell_type": "code",
   "execution_count": 8,
   "metadata": {},
   "outputs": [
    {
     "data": {
      "text/html": [
       "<div>\n",
       "<style scoped>\n",
       "    .dataframe tbody tr th:only-of-type {\n",
       "        vertical-align: middle;\n",
       "    }\n",
       "\n",
       "    .dataframe tbody tr th {\n",
       "        vertical-align: top;\n",
       "    }\n",
       "\n",
       "    .dataframe thead th {\n",
       "        text-align: right;\n",
       "    }\n",
       "</style>\n",
       "<table border=\"1\" class=\"dataframe\">\n",
       "  <thead>\n",
       "    <tr style=\"text-align: right;\">\n",
       "      <th></th>\n",
       "      <th>Author</th>\n",
       "      <th>Article</th>\n",
       "    </tr>\n",
       "  </thead>\n",
       "  <tbody>\n",
       "    <tr>\n",
       "      <th>0</th>\n",
       "      <td>Gordon J. Pace</td>\n",
       "      <td>Algorithmic analysis of polygonal hybrid syste...</td>\n",
       "    </tr>\n",
       "    <tr>\n",
       "      <th>1</th>\n",
       "      <td>Gordon J. Pace</td>\n",
       "      <td>Distributed system contract monitoring.</td>\n",
       "    </tr>\n",
       "    <tr>\n",
       "      <th>2</th>\n",
       "      <td>Gordon J. Pace</td>\n",
       "      <td>Guest Editors' Foreword.</td>\n",
       "    </tr>\n",
       "    <tr>\n",
       "      <th>3</th>\n",
       "      <td>Gordon J. Pace</td>\n",
       "      <td>Monitor-Oriented Compensation Programming Thro...</td>\n",
       "    </tr>\n",
       "    <tr>\n",
       "      <th>4</th>\n",
       "      <td>Gordon J. Pace</td>\n",
       "      <td>Counter-example generation in symbolic abstrac...</td>\n",
       "    </tr>\n",
       "    <tr>\n",
       "      <th>5</th>\n",
       "      <td>Gordon J. Pace</td>\n",
       "      <td>A Survey of Challenges for Runtime Verificatio...</td>\n",
       "    </tr>\n",
       "    <tr>\n",
       "      <th>6</th>\n",
       "      <td>Gordon J. Pace</td>\n",
       "      <td>Explaining Violation Traces with Finite State ...</td>\n",
       "    </tr>\n",
       "    <tr>\n",
       "      <th>7</th>\n",
       "      <td>Gordon J. Pace</td>\n",
       "      <td>Recovery within long-running transactions.</td>\n",
       "    </tr>\n",
       "    <tr>\n",
       "      <th>8</th>\n",
       "      <td>Gordon J. Pace</td>\n",
       "      <td>An embedded language approach to teaching hard...</td>\n",
       "    </tr>\n",
       "    <tr>\n",
       "      <th>9</th>\n",
       "      <td>Gordon J. Pace</td>\n",
       "      <td>On the Specification of Full Contracts.</td>\n",
       "    </tr>\n",
       "    <tr>\n",
       "      <th>10</th>\n",
       "      <td>Gordon J. Pace</td>\n",
       "      <td>Contract automata - An operational view of con...</td>\n",
       "    </tr>\n",
       "    <tr>\n",
       "      <th>11</th>\n",
       "      <td>Gordon J. Pace</td>\n",
       "      <td>Verifying data- and control-oriented propertie...</td>\n",
       "    </tr>\n",
       "    <tr>\n",
       "      <th>12</th>\n",
       "      <td>Gordon J. Pace</td>\n",
       "      <td>Safer asynchronous runtime monitoring using co...</td>\n",
       "    </tr>\n",
       "    <tr>\n",
       "      <th>13</th>\n",
       "      <td>Gordon J. Pace</td>\n",
       "      <td>A Calculus Supporting Contract Reasoning and M...</td>\n",
       "    </tr>\n",
       "    <tr>\n",
       "      <th>14</th>\n",
       "      <td>Keith Bugeja</td>\n",
       "      <td>Frame Rate vs Resolution: A Subjective Evaluat...</td>\n",
       "    </tr>\n",
       "    <tr>\n",
       "      <th>15</th>\n",
       "      <td>Christian Colombo</td>\n",
       "      <td>A Case Study on Graphically Modelling and Dete...</td>\n",
       "    </tr>\n",
       "    <tr>\n",
       "      <th>16</th>\n",
       "      <td>Christian Colombo</td>\n",
       "      <td>Monitor-Oriented Compensation Programming Thro...</td>\n",
       "    </tr>\n",
       "    <tr>\n",
       "      <th>17</th>\n",
       "      <td>Christian Colombo</td>\n",
       "      <td>A Survey of Challenges for Runtime Verificatio...</td>\n",
       "    </tr>\n",
       "    <tr>\n",
       "      <th>18</th>\n",
       "      <td>Christian Colombo</td>\n",
       "      <td>Recovery within long-running transactions.</td>\n",
       "    </tr>\n",
       "    <tr>\n",
       "      <th>19</th>\n",
       "      <td>Christian Colombo</td>\n",
       "      <td>Towards Incremental Mutation Testing.</td>\n",
       "    </tr>\n",
       "    <tr>\n",
       "      <th>20</th>\n",
       "      <td>Christian Colombo</td>\n",
       "      <td>Safer asynchronous runtime monitoring using co...</td>\n",
       "    </tr>\n",
       "    <tr>\n",
       "      <th>21</th>\n",
       "      <td>Christian Colombo</td>\n",
       "      <td>Organising LTL monitors over distributed syste...</td>\n",
       "    </tr>\n",
       "    <tr>\n",
       "      <th>22</th>\n",
       "      <td>Adrian Francalanza</td>\n",
       "      <td>Heaps don't lie: countering unsoundness with h...</td>\n",
       "    </tr>\n",
       "    <tr>\n",
       "      <th>23</th>\n",
       "      <td>Adrian Francalanza</td>\n",
       "      <td>Distributed system contract monitoring.</td>\n",
       "    </tr>\n",
       "    <tr>\n",
       "      <th>24</th>\n",
       "      <td>Adrian Francalanza</td>\n",
       "      <td>A theory for observational fault tolerance.</td>\n",
       "    </tr>\n",
       "    <tr>\n",
       "      <th>25</th>\n",
       "      <td>Adrian Francalanza</td>\n",
       "      <td>Permission-Based Separation Logic for Message-...</td>\n",
       "    </tr>\n",
       "    <tr>\n",
       "      <th>26</th>\n",
       "      <td>Adrian Francalanza</td>\n",
       "      <td>A Survey of Challenges for Runtime Verificatio...</td>\n",
       "    </tr>\n",
       "    <tr>\n",
       "      <th>27</th>\n",
       "      <td>Adrian Francalanza</td>\n",
       "      <td>Compositional Reasoning for Explicit Resource ...</td>\n",
       "    </tr>\n",
       "    <tr>\n",
       "      <th>28</th>\n",
       "      <td>Adrian Francalanza</td>\n",
       "      <td>Determinizing Monitors for HML with Recursion.</td>\n",
       "    </tr>\n",
       "    <tr>\n",
       "      <th>29</th>\n",
       "      <td>Adrian Francalanza</td>\n",
       "      <td>Developing Theoretical Foundations for Runtime...</td>\n",
       "    </tr>\n",
       "    <tr>\n",
       "      <th>30</th>\n",
       "      <td>Adrian Francalanza</td>\n",
       "      <td>On Runtime Enforcement via Suppressions.</td>\n",
       "    </tr>\n",
       "    <tr>\n",
       "      <th>31</th>\n",
       "      <td>Adrian Francalanza</td>\n",
       "      <td>A theory of system behaviour in the presence o...</td>\n",
       "    </tr>\n",
       "    <tr>\n",
       "      <th>32</th>\n",
       "      <td>Adrian Francalanza</td>\n",
       "      <td>Uniqueness typing for resource management in m...</td>\n",
       "    </tr>\n",
       "    <tr>\n",
       "      <th>33</th>\n",
       "      <td>Adrian Francalanza</td>\n",
       "      <td>Full-abstraction for client testing preorders.</td>\n",
       "    </tr>\n",
       "    <tr>\n",
       "      <th>34</th>\n",
       "      <td>Adrian Francalanza</td>\n",
       "      <td>Synthesising correct concurrent runtime monitors.</td>\n",
       "    </tr>\n",
       "    <tr>\n",
       "      <th>35</th>\n",
       "      <td>Adrian Francalanza</td>\n",
       "      <td>Monitorability for the Hennessy-Milner logic w...</td>\n",
       "    </tr>\n",
       "    <tr>\n",
       "      <th>36</th>\n",
       "      <td>Mark Micallef</td>\n",
       "      <td>A Case Study on Graphically Modelling and Dete...</td>\n",
       "    </tr>\n",
       "    <tr>\n",
       "      <th>37</th>\n",
       "      <td>Mark Micallef</td>\n",
       "      <td>Towards Incremental Mutation Testing.</td>\n",
       "    </tr>\n",
       "    <tr>\n",
       "      <th>38</th>\n",
       "      <td>Sandro Spina</td>\n",
       "      <td>Frame Rate vs Resolution: A Subjective Evaluat...</td>\n",
       "    </tr>\n",
       "    <tr>\n",
       "      <th>39</th>\n",
       "      <td>Kevin Vella</td>\n",
       "      <td>Grid infrastructures as Catalysts for Developm...</td>\n",
       "    </tr>\n",
       "    <tr>\n",
       "      <th>40</th>\n",
       "      <td>Kevin Vella</td>\n",
       "      <td>Wait-free cache-affinity thread scheduling.</td>\n",
       "    </tr>\n",
       "  </tbody>\n",
       "</table>\n",
       "</div>"
      ],
      "text/plain": [
       "                Author                                            Article\n",
       "0       Gordon J. Pace  Algorithmic analysis of polygonal hybrid syste...\n",
       "1       Gordon J. Pace            Distributed system contract monitoring.\n",
       "2       Gordon J. Pace                           Guest Editors' Foreword.\n",
       "3       Gordon J. Pace  Monitor-Oriented Compensation Programming Thro...\n",
       "4       Gordon J. Pace  Counter-example generation in symbolic abstrac...\n",
       "5       Gordon J. Pace  A Survey of Challenges for Runtime Verificatio...\n",
       "6       Gordon J. Pace  Explaining Violation Traces with Finite State ...\n",
       "7       Gordon J. Pace         Recovery within long-running transactions.\n",
       "8       Gordon J. Pace  An embedded language approach to teaching hard...\n",
       "9       Gordon J. Pace            On the Specification of Full Contracts.\n",
       "10      Gordon J. Pace  Contract automata - An operational view of con...\n",
       "11      Gordon J. Pace  Verifying data- and control-oriented propertie...\n",
       "12      Gordon J. Pace  Safer asynchronous runtime monitoring using co...\n",
       "13      Gordon J. Pace  A Calculus Supporting Contract Reasoning and M...\n",
       "14        Keith Bugeja  Frame Rate vs Resolution: A Subjective Evaluat...\n",
       "15   Christian Colombo  A Case Study on Graphically Modelling and Dete...\n",
       "16   Christian Colombo  Monitor-Oriented Compensation Programming Thro...\n",
       "17   Christian Colombo  A Survey of Challenges for Runtime Verificatio...\n",
       "18   Christian Colombo         Recovery within long-running transactions.\n",
       "19   Christian Colombo              Towards Incremental Mutation Testing.\n",
       "20   Christian Colombo  Safer asynchronous runtime monitoring using co...\n",
       "21   Christian Colombo  Organising LTL monitors over distributed syste...\n",
       "22  Adrian Francalanza  Heaps don't lie: countering unsoundness with h...\n",
       "23  Adrian Francalanza            Distributed system contract monitoring.\n",
       "24  Adrian Francalanza        A theory for observational fault tolerance.\n",
       "25  Adrian Francalanza  Permission-Based Separation Logic for Message-...\n",
       "26  Adrian Francalanza  A Survey of Challenges for Runtime Verificatio...\n",
       "27  Adrian Francalanza  Compositional Reasoning for Explicit Resource ...\n",
       "28  Adrian Francalanza     Determinizing Monitors for HML with Recursion.\n",
       "29  Adrian Francalanza  Developing Theoretical Foundations for Runtime...\n",
       "30  Adrian Francalanza           On Runtime Enforcement via Suppressions.\n",
       "31  Adrian Francalanza  A theory of system behaviour in the presence o...\n",
       "32  Adrian Francalanza  Uniqueness typing for resource management in m...\n",
       "33  Adrian Francalanza     Full-abstraction for client testing preorders.\n",
       "34  Adrian Francalanza  Synthesising correct concurrent runtime monitors.\n",
       "35  Adrian Francalanza  Monitorability for the Hennessy-Milner logic w...\n",
       "36       Mark Micallef  A Case Study on Graphically Modelling and Dete...\n",
       "37       Mark Micallef              Towards Incremental Mutation Testing.\n",
       "38        Sandro Spina  Frame Rate vs Resolution: A Subjective Evaluat...\n",
       "39         Kevin Vella  Grid infrastructures as Catalysts for Developm...\n",
       "40         Kevin Vella        Wait-free cache-affinity thread scheduling."
      ]
     },
     "execution_count": 8,
     "metadata": {},
     "output_type": "execute_result"
    }
   ],
   "source": [
    "def get_authorship(tx, author_name, authorship_df):\n",
    "    title_list = []\n",
    "    query = \"MATCH (a:Author {name: $author_name})-[r:PUBLISH]-(b:Article) RETURN b.title\"\n",
    "    for record in tx.run(query, author_name = author_name):\n",
    "        authorship_df = authorship_df.append([[author_name, record[0]]])\n",
    "    return authorship_df\n",
    "\n",
    "authorship_df = pd.DataFrame()\n",
    "with graph.session() as session:\n",
    "    for author_name in cs_members:\n",
    "        authorship_df = session.read_transaction(get_authorship, author_name, authorship_df)\n",
    "\n",
    "authorship_df.columns = ['Author','Article']\n",
    "authorship_df = authorship_df.reset_index().drop(columns=['index'])\n",
    "authorship_df"
   ]
  },
  {
   "cell_type": "markdown",
   "metadata": {},
   "source": [
    "# Shortest Path Between 2 Authors"
   ]
  },
  {
   "cell_type": "code",
   "execution_count": 9,
   "metadata": {},
   "outputs": [],
   "source": [
    "def find_shortest_path(tx, author1_name, author2_name):\n",
    "    query = \"MATCH (a1:Author { name: $author1_name }), (a2:Author { name: $author2_name}), p = shortestPath((a1)-[*]-(a2)) WHERE length(p) > 1 return EXTRACT (n in nodes(p) | n.name) as nodes_on_path\" \n",
    "    result = tx.run(query, author1_name=author1_name, author2_name=author2_name)\n",
    "    for record in result:\n",
    "        print(\"A path exists and it is \", list(filter(lambda x: x!=None, record[0]))) #drop none values (Author nodes)\n",
    "    return result"
   ]
  },
  {
   "cell_type": "code",
   "execution_count": 10,
   "metadata": {},
   "outputs": [
    {
     "name": "stdout",
     "output_type": "stream",
     "text": [
      "A path exists and it is  ['Jean-Paul Ebejer', 'Paul W. Finn', 'Rajeev Motwani', 'Donald E. Knuth']\n"
     ]
    }
   ],
   "source": [
    "with graph.session() as session:\n",
    "    path = session.read_transaction(find_shortest_path, 'Jean-Paul Ebejer', 'Donald E. Knuth')"
   ]
  },
  {
   "cell_type": "markdown",
   "metadata": {},
   "source": [
    "# Erdos Number of a researcher"
   ]
  },
  {
   "cell_type": "code",
   "execution_count": 11,
   "metadata": {},
   "outputs": [],
   "source": [
    "#Paul Erdős's Erdős number is zero. \n",
    "#Those who have written a paper with him have an Erdős number of one\n",
    "#those who write a paper with someone with an Erdős number one but who haven't collaborated with Erdős directly, have an Erdős number of two."
   ]
  },
  {
   "cell_type": "code",
   "execution_count": 12,
   "metadata": {},
   "outputs": [],
   "source": [
    "def get_erdos_number(tx, author_name):\n",
    "    erdos_num = 0\n",
    "    query = \"MATCH (a1:Author {name: $author_name}), (a2:Author {name: 'Paul Erdös'}), p = shortestPath((a1)-[r*]-(a2)) WHERE length(p) > 1 return EXTRACT (n in nodes(p) | n.name) as nodes_on_path\"\n",
    "    result = tx.run(query, author_name=author_name)   \n",
    "    for record in result:\n",
    "        #first author linked to Erdos has erdos number 1\n",
    "        erdos_num = len(list(filter(lambda x: x!=None, record[0]))) - 1 #drop none values (Author nodes)\n",
    "        print(\"The Erdos Number of \", author_name, ' is ', erdos_num) \n",
    "    return erdos_num"
   ]
  },
  {
   "cell_type": "code",
   "execution_count": 13,
   "metadata": {},
   "outputs": [
    {
     "name": "stdout",
     "output_type": "stream",
     "text": [
      "A path exists and it is  ['Jean-Paul Ebejer', 'Charlotte M. Deane', 'Graham R. Wood', 'Jenö Lehel', 'Paul Erdös']\n",
      "The Erdos Number of  Jean-Paul Ebejer  is  4\n"
     ]
    }
   ],
   "source": [
    "with graph.session() as session:\n",
    "    shortest_path = session.read_transaction(find_shortest_path, 'Jean-Paul Ebejer', 'Paul Erdös')\n",
    "    result = session.read_transaction(get_erdos_number, 'Jean-Paul Ebejer')"
   ]
  },
  {
   "cell_type": "markdown",
   "metadata": {},
   "source": [
    "# Erdos num for all members in faculty"
   ]
  },
  {
   "cell_type": "code",
   "execution_count": 14,
   "metadata": {},
   "outputs": [
    {
     "name": "stdout",
     "output_type": "stream",
     "text": [
      "The Erdos Number of  Gordon J. Pace  is  2\n",
      "The Erdos Number of  Keith Bugeja  is  4\n",
      "The Erdos Number of  Christian Colombo  is  3\n",
      "The Erdos Number of  Adrian Francalanza  is  3\n",
      "The Erdos Number of  Mark Micallef  is  4\n",
      "The Erdos Number of  Sandro Spina  is  4\n",
      "The Erdos Number of  Kevin Vella  is  4\n",
      "The Erdos Number of  Carl J. Debono  is  5\n",
      "The Erdos Number of  Adrian Muscat  is  3\n",
      "The Erdos Number of  Reuben A. Farrugia  is  3\n",
      "The Erdos Number of  Trevor Spiteri  is  3\n",
      "The Erdos Number of  John Abela  is  3\n",
      "The Erdos Number of  Christopher P. Porter  is  3\n",
      "The Erdos Number of  Alexiei Dingli  is  3\n",
      "The Erdos Number of  Matthew Montebello  is  4\n",
      "The Erdos Number of  Michael Rosner  is  3\n",
      "The Erdos Number of  Claudia Borg  is  3\n",
      "The Erdos Number of  Edward Gatt  is  5\n",
      "The Erdos Number of  Owen Casha  is  4\n",
      "The Erdos Number of  Ivan Grech  is  4\n",
      "The Erdos Number of  Johann A. Briffa  is  3\n",
      "The Erdos Number of  Victor Buttigieg  is  4\n",
      "The Erdos Number of  George Azzopardi  is  3\n",
      "The Erdos Number of  Joseph Micallef  is  4\n"
     ]
    }
   ],
   "source": [
    "ict_members = ['Gordon J. Pace','Keith Bugeja','Christian Colombo','Adrian Francalanza','Mark Micallef','Sandro Spina','Kevin Vella','Carl J. Debono','Adrian Muscat','Reuben A. Farrugia','Trevor Spiteri','John Abela','Christopher P. Porter','Alexiei Dingli','Matthew Montebello','Michael Rosner','Claudia Borg','Edward Gatt','Owen Casha','Ivan Grech','Johann A. Briffa','Victor Buttigieg','Saviour Zammit','Joel Azzopardi','Christopher Staff','George Azzopardi','Joseph Micallef']\n",
    "erdos_list = []\n",
    "with graph.session() as session:\n",
    "    for author in ict_members:\n",
    "        erdos_list.append(session.read_transaction(get_erdos_number, author))"
   ]
  },
  {
   "cell_type": "code",
   "execution_count": 15,
   "metadata": {},
   "outputs": [
    {
     "data": {
      "text/plain": [
       "Text(0.5,1,'Erdos Number for members of the Faculty of ICT')"
      ]
     },
     "execution_count": 15,
     "metadata": {},
     "output_type": "execute_result"
    },
    {
     "data": {
      "image/png": "[encoded data removed]",
      "text/plain": [
       "<Figure size 432x288 with 1 Axes>"
      ]
     },
     "metadata": {
      "needs_background": "light"
     },
     "output_type": "display_data"
    }
   ],
   "source": [
    "plt.hist(x=erdos_list, bins=[0.5,1.5,2.5,3.5,4.5,5.5], rwidth=0.85)\n",
    "plt.grid(axis='y')\n",
    "plt.xlabel('Value')\n",
    "plt.ylabel('Frequency')\n",
    "plt.title('Erdos Number for members of the Faculty of ICT')"
   ]
  },
  {
   "cell_type": "code",
   "execution_count": null,
   "metadata": {},
   "outputs": [],
   "source": []
  }
 ],
 "metadata": {
  "kernelspec": {
   "display_name": "Python 3",
   "language": "python",
   "name": "python3"
  },
  "language_info": {
   "codemirror_mode": {
    "name": "ipython",
    "version": 3
   },
   "file_extension": ".py",
   "mimetype": "text/x-python",
   "name": "python",
   "nbconvert_exporter": "python",
   "pygments_lexer": "ipython3",
   "version": "3.5.6"
  }
 },
 "nbformat": 4,
 "nbformat_minor": 2
}
