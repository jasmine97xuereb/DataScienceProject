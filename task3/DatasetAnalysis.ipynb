{
 "cells": [
  {
   "cell_type": "code",
   "execution_count": 1,
   "metadata": {},
   "outputs": [
    {
     "data": {
      "text/html": [
       "<div>\n",
       "<style scoped>\n",
       "    .dataframe tbody tr th:only-of-type {\n",
       "        vertical-align: middle;\n",
       "    }\n",
       "\n",
       "    .dataframe tbody tr th {\n",
       "        vertical-align: top;\n",
       "    }\n",
       "\n",
       "    .dataframe thead th {\n",
       "        text-align: right;\n",
       "    }\n",
       "</style>\n",
       "<table border=\"1\" class=\"dataframe\">\n",
       "  <thead>\n",
       "    <tr style=\"text-align: right;\">\n",
       "      <th></th>\n",
       "      <th>locality</th>\n",
       "      <th>property_type</th>\n",
       "      <th>bedrooms</th>\n",
       "      <th>size_sqm</th>\n",
       "      <th>price_euro</th>\n",
       "      <th>contact</th>\n",
       "    </tr>\n",
       "  </thead>\n",
       "  <tbody>\n",
       "    <tr>\n",
       "      <th>0</th>\n",
       "      <td>18,033 PROPERTIES for sale on Malta's best rat...</td>\n",
       "      <td>NaN</td>\n",
       "      <td>NaN</td>\n",
       "      <td>NaN</td>\n",
       "      <td>NaN</td>\n",
       "      <td>23880009.0</td>\n",
       "    </tr>\n",
       "    <tr>\n",
       "      <th>1</th>\n",
       "      <td>BALZAN</td>\n",
       "      <td>apartment</td>\n",
       "      <td>3.0</td>\n",
       "      <td>NaN</td>\n",
       "      <td>152000.0</td>\n",
       "      <td>21632918.0</td>\n",
       "    </tr>\n",
       "    <tr>\n",
       "      <th>2</th>\n",
       "      <td>GOZO, GĦAJNSIELEM</td>\n",
       "      <td>terraced house</td>\n",
       "      <td>NaN</td>\n",
       "      <td>NaN</td>\n",
       "      <td>185000.0</td>\n",
       "      <td>99476959.0</td>\n",
       "    </tr>\n",
       "    <tr>\n",
       "      <th>3</th>\n",
       "      <td>GOZO, NADUR: 3 double bedroom house of charact...</td>\n",
       "      <td>house of character</td>\n",
       "      <td>3.0</td>\n",
       "      <td>NaN</td>\n",
       "      <td>293000.0</td>\n",
       "      <td>79470419.0</td>\n",
       "    </tr>\n",
       "    <tr>\n",
       "      <th>4</th>\n",
       "      <td>GOZO, VICTORIA: Spacious ground floor maisonet...</td>\n",
       "      <td>maisonette</td>\n",
       "      <td>NaN</td>\n",
       "      <td>NaN</td>\n",
       "      <td>145000.0</td>\n",
       "      <td>99492695.0</td>\n",
       "    </tr>\n",
       "    <tr>\n",
       "      <th>5</th>\n",
       "      <td>MARSASCALA</td>\n",
       "      <td>apartment</td>\n",
       "      <td>2.0</td>\n",
       "      <td>NaN</td>\n",
       "      <td>85000.0</td>\n",
       "      <td>21632919.0</td>\n",
       "    </tr>\n",
       "    <tr>\n",
       "      <th>6</th>\n",
       "      <td>QAWRA</td>\n",
       "      <td>apartment</td>\n",
       "      <td>3.0</td>\n",
       "      <td>NaN</td>\n",
       "      <td>140000.0</td>\n",
       "      <td>99056212.0</td>\n",
       "    </tr>\n",
       "    <tr>\n",
       "      <th>7</th>\n",
       "      <td>QAWRA</td>\n",
       "      <td>penthouse</td>\n",
       "      <td>3.0</td>\n",
       "      <td>NaN</td>\n",
       "      <td>75500.0</td>\n",
       "      <td>99220023.0</td>\n",
       "    </tr>\n",
       "    <tr>\n",
       "      <th>8</th>\n",
       "      <td>SIĠĠIEWI</td>\n",
       "      <td>maisonette</td>\n",
       "      <td>3.0</td>\n",
       "      <td>NaN</td>\n",
       "      <td>120000.0</td>\n",
       "      <td>99826148.0</td>\n",
       "    </tr>\n",
       "    <tr>\n",
       "      <th>9</th>\n",
       "      <td>ST PAUL' S BAY</td>\n",
       "      <td>apartment</td>\n",
       "      <td>3.0</td>\n",
       "      <td>NaN</td>\n",
       "      <td>250000.0</td>\n",
       "      <td>99220023.0</td>\n",
       "    </tr>\n",
       "  </tbody>\n",
       "</table>\n",
       "</div>"
      ],
      "text/plain": [
       "                                            locality       property_type  \\\n",
       "0  18,033 PROPERTIES for sale on Malta's best rat...                 NaN   \n",
       "1                                             BALZAN           apartment   \n",
       "2                                  GOZO, GĦAJNSIELEM      terraced house   \n",
       "3  GOZO, NADUR: 3 double bedroom house of charact...  house of character   \n",
       "4  GOZO, VICTORIA: Spacious ground floor maisonet...          maisonette   \n",
       "5                                         MARSASCALA           apartment   \n",
       "6                                              QAWRA           apartment   \n",
       "7                                              QAWRA           penthouse   \n",
       "8                                           SIĠĠIEWI          maisonette   \n",
       "9                                     ST PAUL' S BAY           apartment   \n",
       "\n",
       "   bedrooms  size_sqm  price_euro     contact  \n",
       "0       NaN       NaN         NaN  23880009.0  \n",
       "1       3.0       NaN    152000.0  21632918.0  \n",
       "2       NaN       NaN    185000.0  99476959.0  \n",
       "3       3.0       NaN    293000.0  79470419.0  \n",
       "4       NaN       NaN    145000.0  99492695.0  \n",
       "5       2.0       NaN     85000.0  21632919.0  \n",
       "6       3.0       NaN    140000.0  99056212.0  \n",
       "7       3.0       NaN     75500.0  99220023.0  \n",
       "8       3.0       NaN    120000.0  99826148.0  \n",
       "9       3.0       NaN    250000.0  99220023.0  "
      ]
     },
     "execution_count": 1,
     "metadata": {},
     "output_type": "execute_result"
    }
   ],
   "source": [
    "%matplotlib inline\n",
    "import numpy as np\n",
    "import pandas as pd \n",
    "import re\n",
    "import matplotlib.pyplot as plt\n",
    "from scipy import stats\n",
    "import sklearn\n",
    "from sklearn.linear_model import LinearRegression\n",
    "from sklearn import datasets\n",
    "from sklearn.model_selection import train_test_split\n",
    "from sklearn.model_selection import KFold\n",
    "\n",
    "pr_data = pd.read_csv(\"full_property_data.csv\",encoding=\"utf-8\")\n",
    "pr_data.head(10)"
   ]
  },
  {
   "cell_type": "markdown",
   "metadata": {},
   "source": [
    "# Question (b): Clean the Data"
   ]
  },
  {
   "cell_type": "code",
   "execution_count": 2,
   "metadata": {},
   "outputs": [],
   "source": [
    "#remove duplicates\n",
    "pr_data = pr_data.drop_duplicates() \n",
    "pr_types = ['maisonette','penthouse','apartment','villa','terraced house','house of character','bungalow','farmhouse','palazzo','townhouse'] \n",
    "#all property types in data set"
   ]
  },
  {
   "cell_type": "markdown",
   "metadata": {},
   "source": [
    "# Cleaning Locality Column"
   ]
  },
  {
   "cell_type": "code",
   "execution_count": 3,
   "metadata": {},
   "outputs": [],
   "source": [
    "#keep only the words in capital letters, remove any spaces\n",
    "def clean_loc(n):\n",
    "    #stem of PROPERTIES is PROPERT\n",
    "    if (\"PRICE\" in n) | (\"BED\" in n) | (\"OR\" in n) | (\"EXCELLENT\" in n) | (\"PROPERT\" in n) | (\"REDUCTION\" in n) | (\"INVEST\" in n) | (\"AREA\" in n) | (\"SITE\" in n) | (\"FINISH\" in n) | (\"LOCAT\" in n) | (\"BUY\" in n)| (\"APARTMENT\" in n) | (\"MAISONETTE\" in n) | (\"SELL\" in n): \n",
    "        return np.nan\n",
    "    \n",
    "    locality = \"\"\n",
    "    if n.isupper():\n",
    "        locality = n\n",
    "    else:\n",
    "        for word in n.split():\n",
    "            if word.isupper():\n",
    "                locality = locality + word \n",
    "    \n",
    "    locality = locality.replace(' ','')\n",
    "    locality = locality.replace('\\'','')\n",
    "    locality = locality.replace('-','')\n",
    "    locality = locality.replace(',','')\n",
    "    locality = locality.replace('\\t','')\n",
    "    locality = re.sub(r',$','',locality) #remove trailing ,\n",
    "\n",
    "    if locality == \"\":\n",
    "        return np.nan\n",
    "    elif locality == \"GOZO\":\n",
    "        return np.nan\n",
    "    else:\n",
    "        if re.search(r'\\d', locality): #check if it contains a digit or unknown punctuation\n",
    "            return np.nan\n",
    "        if '/' in locality:\n",
    "            locality = locality.split('/')[0] #keep first part only\n",
    "        if ':' in locality:\n",
    "            locality = locality.split(':')[0] #keep first part only\n",
    "        if '(' in locality:\n",
    "            locality = locality.split('(')[0] #keep first part only\n",
    "        return locality"
   ]
  },
  {
   "cell_type": "code",
   "execution_count": 4,
   "metadata": {},
   "outputs": [
    {
     "data": {
      "text/html": [
       "<div>\n",
       "<style scoped>\n",
       "    .dataframe tbody tr th:only-of-type {\n",
       "        vertical-align: middle;\n",
       "    }\n",
       "\n",
       "    .dataframe tbody tr th {\n",
       "        vertical-align: top;\n",
       "    }\n",
       "\n",
       "    .dataframe thead th {\n",
       "        text-align: right;\n",
       "    }\n",
       "</style>\n",
       "<table border=\"1\" class=\"dataframe\">\n",
       "  <thead>\n",
       "    <tr style=\"text-align: right;\">\n",
       "      <th></th>\n",
       "      <th>locality</th>\n",
       "      <th>property_type</th>\n",
       "      <th>bedrooms</th>\n",
       "      <th>size_sqm</th>\n",
       "      <th>price_euro</th>\n",
       "      <th>contact</th>\n",
       "    </tr>\n",
       "  </thead>\n",
       "  <tbody>\n",
       "    <tr>\n",
       "      <th>0</th>\n",
       "      <td>BALZAN</td>\n",
       "      <td>apartment</td>\n",
       "      <td>3.0</td>\n",
       "      <td>NaN</td>\n",
       "      <td>152000.0</td>\n",
       "      <td>21632918.0</td>\n",
       "    </tr>\n",
       "    <tr>\n",
       "      <th>1</th>\n",
       "      <td>GOZOGĦAJNSIELEM</td>\n",
       "      <td>terraced house</td>\n",
       "      <td>NaN</td>\n",
       "      <td>NaN</td>\n",
       "      <td>185000.0</td>\n",
       "      <td>99476959.0</td>\n",
       "    </tr>\n",
       "    <tr>\n",
       "      <th>2</th>\n",
       "      <td>GOZONADUR</td>\n",
       "      <td>house of character</td>\n",
       "      <td>3.0</td>\n",
       "      <td>NaN</td>\n",
       "      <td>293000.0</td>\n",
       "      <td>79470419.0</td>\n",
       "    </tr>\n",
       "    <tr>\n",
       "      <th>3</th>\n",
       "      <td>MARSASCALA</td>\n",
       "      <td>apartment</td>\n",
       "      <td>2.0</td>\n",
       "      <td>NaN</td>\n",
       "      <td>85000.0</td>\n",
       "      <td>21632919.0</td>\n",
       "    </tr>\n",
       "    <tr>\n",
       "      <th>4</th>\n",
       "      <td>QAWRA</td>\n",
       "      <td>apartment</td>\n",
       "      <td>3.0</td>\n",
       "      <td>NaN</td>\n",
       "      <td>140000.0</td>\n",
       "      <td>99056212.0</td>\n",
       "    </tr>\n",
       "    <tr>\n",
       "      <th>5</th>\n",
       "      <td>QAWRA</td>\n",
       "      <td>penthouse</td>\n",
       "      <td>3.0</td>\n",
       "      <td>NaN</td>\n",
       "      <td>75500.0</td>\n",
       "      <td>99220023.0</td>\n",
       "    </tr>\n",
       "    <tr>\n",
       "      <th>6</th>\n",
       "      <td>SIĠĠIEWI</td>\n",
       "      <td>maisonette</td>\n",
       "      <td>3.0</td>\n",
       "      <td>NaN</td>\n",
       "      <td>120000.0</td>\n",
       "      <td>99826148.0</td>\n",
       "    </tr>\n",
       "    <tr>\n",
       "      <th>7</th>\n",
       "      <td>STPAULSBAY</td>\n",
       "      <td>apartment</td>\n",
       "      <td>3.0</td>\n",
       "      <td>NaN</td>\n",
       "      <td>250000.0</td>\n",
       "      <td>99220023.0</td>\n",
       "    </tr>\n",
       "    <tr>\n",
       "      <th>8</th>\n",
       "      <td>STVENERA</td>\n",
       "      <td>penthouse</td>\n",
       "      <td>1.0</td>\n",
       "      <td>NaN</td>\n",
       "      <td>94000.0</td>\n",
       "      <td>99220023.0</td>\n",
       "    </tr>\n",
       "    <tr>\n",
       "      <th>9</th>\n",
       "      <td>STVENERA</td>\n",
       "      <td>NaN</td>\n",
       "      <td>2.0</td>\n",
       "      <td>NaN</td>\n",
       "      <td>110000.0</td>\n",
       "      <td>99220023.0</td>\n",
       "    </tr>\n",
       "  </tbody>\n",
       "</table>\n",
       "</div>"
      ],
      "text/plain": [
       "          locality       property_type  bedrooms  size_sqm  price_euro  \\\n",
       "0           BALZAN           apartment       3.0       NaN    152000.0   \n",
       "1  GOZOGĦAJNSIELEM      terraced house       NaN       NaN    185000.0   \n",
       "2        GOZONADUR  house of character       3.0       NaN    293000.0   \n",
       "3       MARSASCALA           apartment       2.0       NaN     85000.0   \n",
       "4            QAWRA           apartment       3.0       NaN    140000.0   \n",
       "5            QAWRA           penthouse       3.0       NaN     75500.0   \n",
       "6         SIĠĠIEWI          maisonette       3.0       NaN    120000.0   \n",
       "7       STPAULSBAY           apartment       3.0       NaN    250000.0   \n",
       "8         STVENERA           penthouse       1.0       NaN     94000.0   \n",
       "9         STVENERA                 NaN       2.0       NaN    110000.0   \n",
       "\n",
       "      contact  \n",
       "0  21632918.0  \n",
       "1  99476959.0  \n",
       "2  79470419.0  \n",
       "3  21632919.0  \n",
       "4  99056212.0  \n",
       "5  99220023.0  \n",
       "6  99826148.0  \n",
       "7  99220023.0  \n",
       "8  99220023.0  \n",
       "9  99220023.0  "
      ]
     },
     "execution_count": 4,
     "metadata": {},
     "output_type": "execute_result"
    }
   ],
   "source": [
    "pr_data['locality'] = pr_data.locality.dropna().apply(clean_loc)\n",
    "df = pd.DataFrame()\n",
    "df = pr_data[~pr_data['locality'].isnull()]\n",
    "df = df.reset_index(drop = True)\n",
    "df.head(10)"
   ]
  },
  {
   "cell_type": "code",
   "execution_count": 5,
   "metadata": {},
   "outputs": [
    {
     "data": {
      "text/plain": [
       "array(['BALZAN', 'GOZOGĦAJNSIELEM', 'GOZONADUR', 'MARSASCALA', 'QAWRA',\n",
       "       'SIĠĠIEWI', 'STPAULSBAY', 'STVENERA', 'TAXBIEX', 'TARXIEN',\n",
       "       'STJULIANS', 'ŻEBBUĠ', 'ATTARD', 'BIRKIRKARA', 'COSPICUA',\n",
       "       'GOZOFONTANA', 'GOZOSANNAT', 'GOZOXAGĦRA', 'KAPPARA', 'MĠARR',\n",
       "       'MTARFA', 'NAXXAR', 'SANTALUĊIJA', 'SLIEMA', 'VALLETTA', 'ŻABBAR',\n",
       "       'GOZOQALA', 'GOZOXEWKIJA', 'ANNEPULLICINO', 'ARESTAURANT',\n",
       "       'BAĦARIĊĊAGĦAQ', 'BAĦRIJA', 'BIRGUMA', 'BIRŻEBBUĠA', 'BUĠIBBA',\n",
       "       'DINGLI', 'FGURA', 'GĦARGĦUR', 'GĦAXAQ', 'GOZOGĦARB', 'GOZOMUNXAR',\n",
       "       'GOZOSANLAWRENZ', 'GOZOXLENDI', 'GOZOŻEBBUĠ', 'GUARDAMANGIA',\n",
       "       'GUDJA', 'GŻIRA', 'ĦAMRUN', 'IKLIN', 'KALKARA', 'KIRKOP', 'LIJA',\n",
       "       'LUQA', 'SWIEQI', 'MANIKATA', 'MARSA', 'MARSAXLOKK', 'MELLIEĦA',\n",
       "       'MOSTA', 'MQABBA', 'MSIDA', 'PAOLA', 'PIETÀ', 'XEMXIJA', 'QRENDI',\n",
       "       'RABAT', 'SANĠWANN', 'SENGLEA', 'SWATAR', 'TALIBRAĠ', 'XGĦAJRA',\n",
       "       'ŻEBBIEGĦ', 'ŻEJTUN', 'ŻURRIEQ', 'GOZOKERĊEM', 'PEMBROKE',\n",
       "       'BENGĦAJSA', 'BLATALBAJDA', 'FULLYDETACHED', 'ĦAXAQ', 'PACEVILLE',\n",
       "       'PIETÁ', 'SAFI', 'STALUĊIJA', 'STAMARIAESTATE', 'SWIEQIVALLEY',\n",
       "       'ZABBAR', 'ANDSAVE', 'BURMARRAD', 'GOZOMĠARR', 'GOZOXAGHRA',\n",
       "       'TAPARIS', 'TUSCANY', 'GOZOGĦASRI', 'MDINA', 'REDUCED',\n",
       "       'THEGARDENS', 'BUNGALOW', 'GOZOGHAJNSIELEM', 'HIGHRIDGE',\n",
       "       'MRIEĦEL', 'WARDIJA', 'BALLUTA', 'BIDNIJA', 'MISTRAVILLAGE',\n",
       "       'MIŻIEB', 'QAJJENZA', 'SANTAMARIJAESTATE', 'STANDREWS',\n",
       "       'SWATARHSBC', 'GOZOTAĊENĊCLIFFS', 'STTHOMASBAY', 'FAWWARA',\n",
       "       'SPINOLA', 'THREECITIES', 'SELECTION', 'GHARGHUR', 'MELLIEHA',\n",
       "       'BUSKETT', 'GHAXAQ', 'WINEBAR', 'ŻEBBIEGH', 'ATTARDNAXXARMOSTA',\n",
       "       'GOZOMARSALFORN', 'PARTLYFURNISHED', 'STAMARIJAESTATE',\n",
       "       'UNDERMDINABASTIONS', 'MENSIJA', 'RABATMDINA', 'XAGĦRA', 'XAGĦJRA',\n",
       "       'SWIEQIROAD', 'GOZORABAT', 'SALIBTALGĦOLJA', 'MAGĦTAB',\n",
       "       'TAMASRIJA', 'UPMARKET', 'XGĦAJRAŻABBAR', 'BARGAIN', 'GOZOŻEBBUG',\n",
       "       'SAVOYGARDENS', 'STVENERAĦAMRUN', 'SICILY', 'ATTENTIONDEVELOPERS',\n",
       "       'GĦARGHUR', 'GHARGĦUR', 'HOUSEOFCHARACTER', 'TASSILĠ',\n",
       "       'COMMERCIALPREMISES', 'MĠARRMALTA', 'SPACIOUSTOWNHOUSE',\n",
       "       'TALVIRTÙ', 'QAWRASEACREST', 'ĦALFAR', 'MOSTANAXXAR', 'SELMUN',\n",
       "       'TALIBRAG', 'THELAGUNA', 'UNIVERSITY', 'ŻEBBUG', 'SAGĦJTAR',\n",
       "       'TAQALI', 'GARDEN', 'ASELECTION', 'LANDRIJIET', 'PAOLAANDGUDJA',\n",
       "       'RUEDARGENS', 'SEMIDETACHEDVILLA', 'SOUTH', 'BINĠEMMA',\n",
       "       'HOUSESOFCHARACTER', 'FRANCE', 'UNCONVERTED', 'VERDALAMANSIONS',\n",
       "       'RESTAURANT', 'SPACIOUS', 'TALFJURI', 'MINUTESAWAY', 'NEW',\n",
       "       'COMMISSIONONLY', 'ĠŻIRA', 'ADJACENT', 'OSTA', 'SANTAMARGHERITA',\n",
       "       'SENSARAMALTA', 'SANĠWANNSTJULIANS', 'SENSARA', 'GOZOTAKIREX',\n",
       "       'CLAYTONCAMILLERI', 'ATTARDLIJA', 'COTTONERA', 'ONPLAN',\n",
       "       'SPINOLABAY', 'GOLDENSANDS', 'GOZOSANTALUĊIJA', 'RAGUSASICILY',\n",
       "       'RABATLIMITS', 'MARSACALA', 'NAXXARGARDENS', 'UNIVERSITYHEIGHTS',\n",
       "       'GIANPULAŻEBBUĠ', 'AONEOFAKIND', 'CONVERTED', 'NICELYCONVERTED',\n",
       "       'OLDERTYPE', 'IRKIRKARA', 'URMARRAD', 'OSPICUA', 'GOZOĦAJNSIELEM',\n",
       "       'ŻIRA', 'MĠRR', 'LIEMA', 'TOWERROAD', 'ALLETTA', 'ŻEBBIEĦ',\n",
       "       'BIDNI', 'TYPICAL', 'UNIVERSITYCIRCUS', 'ABRANDNEW',\n",
       "       'GĦAJNTUFFIEĦA', 'MOSTAŻOKRIJA', 'RABATL', 'GOZOŻEBBUĠB)',\n",
       "       'MARSASCALAŻABBAR', 'CONFECTIONERY', 'SEAFRONT', 'GOZOŻEBBUĠB',\n",
       "       'ASMALL', 'MUNXAR', 'BRANDNEW', 'ĦADIRA', 'GOZOTAĊENĊ',\n",
       "       'LUXURIOUSLYCONVERTED', 'LANDRIJET', 'NEARSTRAND', 'SEMIDETACHED',\n",
       "       'FARMHOUSE', 'STAULSBAY', 'ST', 'PENTHOUSE', 'BIRGU', 'SWIEQIHSBC',\n",
       "       'AONETIME', 'UNDIVIDED', 'BOUTIQUEHOTEL', 'DINGLISTREET',\n",
       "       'FARMHOUSERESIDENCE', 'GOZOGHARB', 'BAHAMAS', 'BOUTIQUEB&B',\n",
       "       'PAOLASQUARE', 'FILFLAVIEWS', 'MARFA', 'TA’XBIEX', 'ONEOFTHEFEW',\n",
       "       'GZIRA', 'SIGGIEWI', 'SPINOLACOURT', 'AMAZING', 'SANTUMAS',\n",
       "       'STJULIANSSANĠWANN', 'BEAUTIFULLYCONVERTED', 'GOZOCHAMBRAY',\n",
       "       'SEMIDETACHEDBBQ', 'HOTEL', 'STPETERS', 'MELLIEĦABAY', 'ĦANDAQ',\n",
       "       'PEMROKE', 'VILLA', 'SALEOF', 'BUĠBBA', 'GOZOBIRBUBA', 'STLUĊIJA',\n",
       "       'TALMIRAKLI', 'WANT', 'FARMHOUSESENSARA', 'G¯IRA', 'HALFAR',\n",
       "       'FARMOUSES', 'TALĦANDAQ', 'FARMHOUSES', 'NADUR', 'BRIGHT',\n",
       "       'DOYOUHAVE', 'DOUBLEFRONTED', 'FREEVALUATIONS', 'SAVOY', 'ILKIN',\n",
       "       'FGURACENTRE', 'DOYOUOWN', 'WIEDIŻŻURRIEQ', 'PENDER', '¯EJTUN',\n",
       "       'IFYOUHAVE<![CDATA[', 'COTTONERAWATERFRONT', 'TO', 'BALZANBR',\n",
       "       'SLIEMAGŻIRA', 'ARXIEN', 'SIMONESTATES', 'PIETÁSEAFRONT',\n",
       "       'BIRŻEBUĠA', 'IFYOUWOULDLIKE', 'TERRACEDHOUSE', 'TWOTUMOLI',\n",
       "       'JUSTOFFBALLUTA', 'BALLUTASEAFRONT', 'CENTRAL', 'DELIMARA', 'AWRA',\n",
       "       'HALFARRUĠ', 'RECENTLYCONVERTED', 'TIGNÈ', 'UNCONVERTEDTOWNHOUSE',\n",
       "       'SIGĠĠIEWI', 'AIRSPACE', 'BIRIDDEĦEB', 'BAHRIJA', 'XEWKIJA',\n",
       "       'ŻEBBIĠĦ', 'GOZOKERCEM', 'CENTRALLY', 'GUARDMANGIA', 'MANIKTA',\n",
       "       'XGHAJRA', 'JPJPJP', 'MONTROSAGARDENS', 'BIRŻEBBUĠIA',\n",
       "       'BIRŻEUBBUĠA', 'GOZOĦARB', 'STLUCIJA', 'MINIMARKET', 'BINGEMMA',\n",
       "       'CONVERTEDFARMHOUSE', 'GOZO', 'MENSIJAVICINITY', 'AXXAR',\n",
       "       'GŻIRASLIEMA', 'GOZOQALAGĦARBGĦASRI', 'LOVINGLYCONVERTED',\n",
       "       'MĠARRODZ', 'ĦAMRUNFH;FH', 'SOLEAGENCY', 'MODERN', 'BEAUTIFUL',\n",
       "       'GOZOFARMHOUSEB&BB&B', 'PETROLSTATION', 'PIETA', 'TIGNE',\n",
       "       'BIRZEBUĠĠIA', 'GWARDAMANGIA', 'LARGETHREE', 'NEWDEVELOPMENT',\n",
       "       'SANTALUCIJA', 'TALIBRAĠLO', 'GOZOGHASRI', 'LARGE', 'HOMES',\n",
       "       'SWATARAPS'], dtype=object)"
      ]
     },
     "execution_count": 5,
     "metadata": {},
     "output_type": "execute_result"
    }
   ],
   "source": [
    "for index, row in df['locality'].iteritems():\n",
    "    if (\"STPAUL\" in row) | (\"SANPAWL\" in row):\n",
    "        df.at[index, 'locality'] = \"STPAULSBAY\"\n",
    "    elif (\"AIRPORT\" in row) :\n",
    "        df.at[index, 'locality'] = \"LUQA\"\n",
    "    elif (\"XEMXIJA\" in row) | (\"PWALES\" in row):\n",
    "        df.at[index, 'locality'] = \"XEMXIJA\"\n",
    "    elif (\"MELLIEĦAHEIGHTS\" in row) | (\"SANTAMARIAESTATE\" in row) | (\"GĦADIRA\" in row) | (\"GHADIRA\" in row):\n",
    "        df.at[index, 'locality'] = \"MELLIEĦA\"\n",
    "    elif (\"TIGNÉ\" in row)| (\"POINT\" in row) | (\"FORTCAMBRIDGE\" in row) | (\"FORTCAMBRDIGE\" in row) | (\"THESTRAND\" in row) | (\"QUISISANA\" in row):\n",
    "        df.at[index, 'locality'] = \"SLIEMA\"\n",
    "    elif (\"BULEBEL\" in row):\n",
    "        df.at[index, 'locality'] = \"ŻEJTUN\"\n",
    "    elif (\"VICTORIAGARDENS\" in row) | (\"MADLIENA\" in row):\n",
    "        df.at[index, 'locality'] = \"SWIEQI\"\n",
    "    elif (\"SALINA\" in row):\n",
    "        df.at[index, 'locality'] = \"NAXXAR\"\n",
    "    elif (\"TASANNAT\" in row):\n",
    "        df.at[index, 'locality'] = \"GOZOSANNAT\"  \n",
    "    elif (\"BALZANVALLEY\" in row):\n",
    "        df.at[index, 'locality'] = \"BALZAN\"\n",
    "    elif (\"MSIDA\" in row):\n",
    "        df.at[index, 'locality'] = \"MSIDA\"\n",
    "    elif (\"THEVILLAGE\" in row) | (\"BALLUTABAY\" in row) | (\"PENDERGARDENS\" in row) | (\"STGEORGE\" in row):\n",
    "        df.at[index, 'locality'] = \"STJULIANS\" \n",
    "    elif (\"BAHAR\" in row) | (\"BAĦAR\" in row):\n",
    "        df.at[index, 'locality'] = \"BAĦARIĊĊAGĦAQ\"\n",
    "    elif (\"VIRTÚ\" in row) | (\"VIRTU\" in row):\n",
    "        df.at[index, 'locality'] = \"MARSA\" \n",
    "    elif (\"MONTEROSA\" in row) | (\"SANGWANN\" in row) :\n",
    "        df.at[index, 'locality'] = \"SANĠWANN\"  \n",
    "    elif (\"FLEURDELYS\" in row) :\n",
    "        df.at[index, 'locality'] = \"BIRKIRKARA\" \n",
    "    elif (\"MONITA\" in row) :\n",
    "        df.at[index, 'locality'] = \"MARSASCALA\" \n",
    "    elif (\"STANGELOMANSION\" in row) :\n",
    "        df.at[index, 'locality'] = \"BIRGU\" \n",
    "    elif (\"QBAJJAR\" in row) :\n",
    "        df.at[index, 'locality'] = \"GOZOMARSALFORN\" \n",
    "    elif (\"HAMRUN\" in row) :\n",
    "        df.at[index, 'locality'] = \"ĦAMRUN\" \n",
    "    elif (\"ZURRIEQ\" in row) :\n",
    "        df.at[index, 'locality'] = \"ŻURRIEQ\" \n",
    "    elif (\"MRIEHEL\" in row) :\n",
    "        df.at[index, 'locality'] = \"MRIEĦEL\" \n",
    "    elif (\"SANLAWRENCE\" in row) | (\"SANLAWRENZ\" in row):\n",
    "        df.at[index, 'locality'] = \"GOZOSANLAWRENZ\" \n",
    "\n",
    "df.locality.unique()"
   ]
  },
  {
   "cell_type": "code",
   "execution_count": 6,
   "metadata": {},
   "outputs": [],
   "source": [
    "#since analysis will be mostly based on locality, remove the records with empty locality\n",
    "df = df.dropna(subset = ['locality'])\n",
    "df['locality'] = df.locality.astype(str)\n",
    "df = df.reset_index(drop = True)"
   ]
  },
  {
   "cell_type": "markdown",
   "metadata": {},
   "source": [
    "# Cleaning Property Type Column"
   ]
  },
  {
   "cell_type": "code",
   "execution_count": 7,
   "metadata": {},
   "outputs": [],
   "source": [
    "def get_pr_type(n):\n",
    "    if n == \"flat\":\n",
    "        pr_type = \"apartment\"\n",
    "    elif n == \"character house\":\n",
    "        pr_type = \"house of character\"\n",
    "    elif n == \"house\":\n",
    "        pr_type = \"maisonette\"\n",
    "    elif n == \"home\":\n",
    "        pr_type = \"bungalow\"\n",
    "    else:\n",
    "        pr_type = n\n",
    "    return pr_type"
   ]
  },
  {
   "cell_type": "code",
   "execution_count": 8,
   "metadata": {},
   "outputs": [],
   "source": [
    "df['property_type'] = df.property_type.apply(get_pr_type)\n",
    "#df"
   ]
  },
  {
   "cell_type": "code",
   "execution_count": 9,
   "metadata": {},
   "outputs": [
    {
     "data": {
      "text/html": [
       "<div>\n",
       "<style scoped>\n",
       "    .dataframe tbody tr th:only-of-type {\n",
       "        vertical-align: middle;\n",
       "    }\n",
       "\n",
       "    .dataframe tbody tr th {\n",
       "        vertical-align: top;\n",
       "    }\n",
       "\n",
       "    .dataframe thead th {\n",
       "        text-align: right;\n",
       "    }\n",
       "</style>\n",
       "<table border=\"1\" class=\"dataframe\">\n",
       "  <thead>\n",
       "    <tr style=\"text-align: right;\">\n",
       "      <th></th>\n",
       "      <th>locality</th>\n",
       "      <th>property_type</th>\n",
       "      <th>bedrooms</th>\n",
       "      <th>size_sqm</th>\n",
       "      <th>price_euro</th>\n",
       "      <th>contact</th>\n",
       "    </tr>\n",
       "  </thead>\n",
       "  <tbody>\n",
       "    <tr>\n",
       "      <th>0</th>\n",
       "      <td>BALZAN</td>\n",
       "      <td>apartment</td>\n",
       "      <td>3.0</td>\n",
       "      <td>NaN</td>\n",
       "      <td>152000.0</td>\n",
       "      <td>21632918.0</td>\n",
       "    </tr>\n",
       "    <tr>\n",
       "      <th>1</th>\n",
       "      <td>GOZOGĦAJNSIELEM</td>\n",
       "      <td>terraced house</td>\n",
       "      <td>NaN</td>\n",
       "      <td>NaN</td>\n",
       "      <td>185000.0</td>\n",
       "      <td>99476959.0</td>\n",
       "    </tr>\n",
       "    <tr>\n",
       "      <th>2</th>\n",
       "      <td>GOZONADUR</td>\n",
       "      <td>house of character</td>\n",
       "      <td>3.0</td>\n",
       "      <td>NaN</td>\n",
       "      <td>293000.0</td>\n",
       "      <td>79470419.0</td>\n",
       "    </tr>\n",
       "    <tr>\n",
       "      <th>3</th>\n",
       "      <td>MARSASCALA</td>\n",
       "      <td>apartment</td>\n",
       "      <td>2.0</td>\n",
       "      <td>NaN</td>\n",
       "      <td>85000.0</td>\n",
       "      <td>21632919.0</td>\n",
       "    </tr>\n",
       "    <tr>\n",
       "      <th>4</th>\n",
       "      <td>QAWRA</td>\n",
       "      <td>apartment</td>\n",
       "      <td>3.0</td>\n",
       "      <td>NaN</td>\n",
       "      <td>140000.0</td>\n",
       "      <td>99056212.0</td>\n",
       "    </tr>\n",
       "    <tr>\n",
       "      <th>5</th>\n",
       "      <td>QAWRA</td>\n",
       "      <td>penthouse</td>\n",
       "      <td>3.0</td>\n",
       "      <td>NaN</td>\n",
       "      <td>75500.0</td>\n",
       "      <td>99220023.0</td>\n",
       "    </tr>\n",
       "    <tr>\n",
       "      <th>6</th>\n",
       "      <td>SIĠĠIEWI</td>\n",
       "      <td>maisonette</td>\n",
       "      <td>3.0</td>\n",
       "      <td>NaN</td>\n",
       "      <td>120000.0</td>\n",
       "      <td>99826148.0</td>\n",
       "    </tr>\n",
       "    <tr>\n",
       "      <th>7</th>\n",
       "      <td>STPAULSBAY</td>\n",
       "      <td>apartment</td>\n",
       "      <td>3.0</td>\n",
       "      <td>NaN</td>\n",
       "      <td>250000.0</td>\n",
       "      <td>99220023.0</td>\n",
       "    </tr>\n",
       "    <tr>\n",
       "      <th>8</th>\n",
       "      <td>STVENERA</td>\n",
       "      <td>penthouse</td>\n",
       "      <td>1.0</td>\n",
       "      <td>NaN</td>\n",
       "      <td>94000.0</td>\n",
       "      <td>99220023.0</td>\n",
       "    </tr>\n",
       "    <tr>\n",
       "      <th>9</th>\n",
       "      <td>TAXBIEX</td>\n",
       "      <td>villa</td>\n",
       "      <td>3.0</td>\n",
       "      <td>NaN</td>\n",
       "      <td>850000.0</td>\n",
       "      <td>99252868.0</td>\n",
       "    </tr>\n",
       "  </tbody>\n",
       "</table>\n",
       "</div>"
      ],
      "text/plain": [
       "          locality       property_type  bedrooms  size_sqm  price_euro  \\\n",
       "0           BALZAN           apartment       3.0       NaN    152000.0   \n",
       "1  GOZOGĦAJNSIELEM      terraced house       NaN       NaN    185000.0   \n",
       "2        GOZONADUR  house of character       3.0       NaN    293000.0   \n",
       "3       MARSASCALA           apartment       2.0       NaN     85000.0   \n",
       "4            QAWRA           apartment       3.0       NaN    140000.0   \n",
       "5            QAWRA           penthouse       3.0       NaN     75500.0   \n",
       "6         SIĠĠIEWI          maisonette       3.0       NaN    120000.0   \n",
       "7       STPAULSBAY           apartment       3.0       NaN    250000.0   \n",
       "8         STVENERA           penthouse       1.0       NaN     94000.0   \n",
       "9          TAXBIEX               villa       3.0       NaN    850000.0   \n",
       "\n",
       "      contact  \n",
       "0  21632918.0  \n",
       "1  99476959.0  \n",
       "2  79470419.0  \n",
       "3  21632919.0  \n",
       "4  99056212.0  \n",
       "5  99220023.0  \n",
       "6  99826148.0  \n",
       "7  99220023.0  \n",
       "8  99220023.0  \n",
       "9  99252868.0  "
      ]
     },
     "execution_count": 9,
     "metadata": {},
     "output_type": "execute_result"
    }
   ],
   "source": [
    "#drop all listings whose property_type is empty\n",
    "df = df.dropna(subset = ['property_type'])\n",
    "#df.loc['property_type'] = df.property_type.astype(str)\n",
    "df = df.reset_index(drop = True)\n",
    "df.head(10)"
   ]
  },
  {
   "cell_type": "markdown",
   "metadata": {},
   "source": [
    "# Handle Outliers"
   ]
  },
  {
   "cell_type": "markdown",
   "metadata": {},
   "source": [
    "# Outliers in Price Column"
   ]
  },
  {
   "cell_type": "code",
   "execution_count": 10,
   "metadata": {},
   "outputs": [
    {
     "data": {
      "image/png": "[encoded data removed]",
      "text/plain": [
       "<Figure size 432x288 with 1 Axes>"
      ]
     },
     "metadata": {
      "needs_background": "light"
     },
     "output_type": "display_data"
    }
   ],
   "source": [
    "#outliers in farmhouse prices\n",
    "farmhouse_price_df = pd.DataFrame()\n",
    "farmhouse_price_df['Farmhouse'] = df[df['property_type'] == 'farmhouse'].price_euro.dropna()\n",
    "farmhouse_price_df\n",
    "\n",
    "plt.figure()\n",
    "plt.title('Price boxplot for Farmhouse Property Type')\n",
    "plt.ylabel('Price (Euro)')\n",
    "\n",
    "p = farmhouse_price_df.boxplot(return_type='dict')\n",
    "axes = plt.gca()\n",
    "#from box plots, one can note that there are many outliers in the price of farmhouse\n",
    "#we now remove these outliers\n",
    "#if we use 3 times standard deviation, there are many values that we keep that are outliers"
   ]
  },
  {
   "cell_type": "code",
   "execution_count": 11,
   "metadata": {},
   "outputs": [],
   "source": [
    "#function to remove the price outliers according to the type of property which is passed as parameter\n",
    "def remove_price_outlier(property_type, df_no_outlier):\n",
    "    price_df = pd.DataFrame()\n",
    "    price_df = df_no_outlier[df_no_outlier['property_type'] == property_type].price_euro.dropna().astype('float')\n",
    "    #to_drop = price_df[(np.abs(price_df - price_df.mean()) > (price_df.std()))]\n",
    "    index_to_drop = price_df[(np.abs(price_df - price_df.mean()) > (0.5 * price_df.std()))].index.values\n",
    "    df_no_outlier = df_no_outlier.drop(index_to_drop)\n",
    "    return df_no_outlier\n",
    "    "
   ]
  },
  {
   "cell_type": "code",
   "execution_count": 12,
   "metadata": {},
   "outputs": [],
   "source": [
    "#remove price outliers for all property types \n",
    "df_no_price_outlier = df\n",
    "for pr in pr_types:\n",
    "        df_no_price_outlier = remove_price_outlier(pr, df_no_price_outlier)\n",
    "#df_no_price_outlier"
   ]
  },
  {
   "cell_type": "markdown",
   "metadata": {},
   "source": [
    "# Outliers in Size Column"
   ]
  },
  {
   "cell_type": "code",
   "execution_count": 13,
   "metadata": {
    "scrolled": true
   },
   "outputs": [
    {
     "data": {
      "image/png": "[encoded data removed]",
      "text/plain": [
       "<Figure size 432x288 with 1 Axes>"
      ]
     },
     "metadata": {
      "needs_background": "light"
     },
     "output_type": "display_data"
    }
   ],
   "source": [
    "#outliers in size of property having type apartment\n",
    "apartment_size_df = pd.DataFrame()\n",
    "apartment_size_df['size'] = df_no_price_outlier[df_no_price_outlier['property_type'] == 'apartment'].size_sqm.dropna()\n",
    "apartment_size_df\n",
    "\n",
    "plt.figure()\n",
    "plt.title('Size in Square Metres boxplot for Apartment')\n",
    "plt.ylabel('Size (sqm)')\n",
    "p = apartment_size_df.boxplot(return_type='dict')\n",
    "axes = plt.gca()"
   ]
  },
  {
   "cell_type": "code",
   "execution_count": 14,
   "metadata": {},
   "outputs": [],
   "source": [
    "#function to remove size outliers according to the type of property which is passed as parameter\n",
    "def remove_size_outlier(property_type, df_no_outlier):\n",
    "    size_df = pd.DataFrame()\n",
    "    size_df = df_no_outlier[df_no_outlier['property_type'] == property_type].size_sqm.dropna().astype('float')\n",
    "    #2 * standard deviation since we do not want to remove many\n",
    "    #to_drop = size_df[(np.abs(size_df - size_df.mean()) > (2*size_df.std()))]\n",
    "    #index_to_drop = size_df[(np.abs(size_df - size_df.mean()) > (2*size_df.std()))].index.values\n",
    "    index_to_drop = size_df[(np.abs(size_df - size_df.mean()) > (0.5 * size_df.std()))].index.values\n",
    "    \n",
    "    df_no_outlier = df_no_outlier.drop(index_to_drop)\n",
    "    return df_no_outlier   "
   ]
  },
  {
   "cell_type": "code",
   "execution_count": 15,
   "metadata": {},
   "outputs": [],
   "source": [
    "#remove price outliers for all property types \n",
    "df_no_size_outlier = df_no_price_outlier\n",
    "for pr in pr_types:\n",
    "        df_no_size_outlier = remove_size_outlier(pr, df_no_size_outlier)\n",
    "#df_no_size_outlier"
   ]
  },
  {
   "cell_type": "code",
   "execution_count": 16,
   "metadata": {},
   "outputs": [],
   "source": [
    "df_no_outlier = df_no_size_outlier\n",
    "df_no_outlier = df_no_outlier.reset_index(drop=True)"
   ]
  },
  {
   "cell_type": "markdown",
   "metadata": {},
   "source": [
    "# Impute missing data"
   ]
  },
  {
   "cell_type": "code",
   "execution_count": 17,
   "metadata": {},
   "outputs": [],
   "source": [
    "#convert prices to dictionary\n",
    "dict_pd = pd.DataFrame()\n",
    "dict_pd['property_type'] = df_no_outlier.property_type\n",
    "dict_pd['price'] = df_no_outlier.price_euro.dropna()\n",
    "dict_pd['size'] = df_no_outlier.size_sqm.dropna()\n",
    "dict_pd['bedrooms'] = df_no_outlier.bedrooms.dropna()\n",
    "#dict_pd\n",
    "\n",
    "#mean = dict_pd.groupby('property_type').mean()\n",
    "price_mean = np.around(dict_pd.groupby('property_type').mean(), decimals=1).to_dict()['price']\n",
    "size_mean = np.around(dict_pd.groupby('property_type').mean(), decimals = 1).to_dict()['size']\n",
    "bedrooms_mean = np.around(dict_pd.groupby('property_type').mean(), decimals = 0).to_dict()['bedrooms']"
   ]
  },
  {
   "cell_type": "code",
   "execution_count": 18,
   "metadata": {},
   "outputs": [
    {
     "data": {
      "text/html": [
       "<div>\n",
       "<style scoped>\n",
       "    .dataframe tbody tr th:only-of-type {\n",
       "        vertical-align: middle;\n",
       "    }\n",
       "\n",
       "    .dataframe tbody tr th {\n",
       "        vertical-align: top;\n",
       "    }\n",
       "\n",
       "    .dataframe thead th {\n",
       "        text-align: right;\n",
       "    }\n",
       "</style>\n",
       "<table border=\"1\" class=\"dataframe\">\n",
       "  <thead>\n",
       "    <tr style=\"text-align: right;\">\n",
       "      <th></th>\n",
       "      <th>locality</th>\n",
       "      <th>property_type</th>\n",
       "      <th>bedrooms</th>\n",
       "      <th>price_euro</th>\n",
       "      <th>size_sqm</th>\n",
       "      <th>contact</th>\n",
       "    </tr>\n",
       "  </thead>\n",
       "  <tbody>\n",
       "    <tr>\n",
       "      <th>0</th>\n",
       "      <td>BALZAN</td>\n",
       "      <td>apartment</td>\n",
       "      <td>3.0</td>\n",
       "      <td>152000.0</td>\n",
       "      <td>148.3</td>\n",
       "      <td>21632918.0</td>\n",
       "    </tr>\n",
       "    <tr>\n",
       "      <th>1</th>\n",
       "      <td>GOZONADUR</td>\n",
       "      <td>house of character</td>\n",
       "      <td>3.0</td>\n",
       "      <td>293000.0</td>\n",
       "      <td>241.9</td>\n",
       "      <td>79470419.0</td>\n",
       "    </tr>\n",
       "    <tr>\n",
       "      <th>2</th>\n",
       "      <td>MARSASCALA</td>\n",
       "      <td>apartment</td>\n",
       "      <td>2.0</td>\n",
       "      <td>85000.0</td>\n",
       "      <td>148.3</td>\n",
       "      <td>21632919.0</td>\n",
       "    </tr>\n",
       "    <tr>\n",
       "      <th>3</th>\n",
       "      <td>QAWRA</td>\n",
       "      <td>apartment</td>\n",
       "      <td>3.0</td>\n",
       "      <td>140000.0</td>\n",
       "      <td>148.3</td>\n",
       "      <td>99056212.0</td>\n",
       "    </tr>\n",
       "    <tr>\n",
       "      <th>4</th>\n",
       "      <td>SIĠĠIEWI</td>\n",
       "      <td>maisonette</td>\n",
       "      <td>3.0</td>\n",
       "      <td>120000.0</td>\n",
       "      <td>177.6</td>\n",
       "      <td>99826148.0</td>\n",
       "    </tr>\n",
       "    <tr>\n",
       "      <th>5</th>\n",
       "      <td>STPAULSBAY</td>\n",
       "      <td>apartment</td>\n",
       "      <td>3.0</td>\n",
       "      <td>250000.0</td>\n",
       "      <td>148.3</td>\n",
       "      <td>99220023.0</td>\n",
       "    </tr>\n",
       "    <tr>\n",
       "      <th>6</th>\n",
       "      <td>TAXBIEX</td>\n",
       "      <td>villa</td>\n",
       "      <td>3.0</td>\n",
       "      <td>850000.0</td>\n",
       "      <td>447.3</td>\n",
       "      <td>99252868.0</td>\n",
       "    </tr>\n",
       "    <tr>\n",
       "      <th>7</th>\n",
       "      <td>ŻEBBUĠ</td>\n",
       "      <td>farmhouse</td>\n",
       "      <td>3.0</td>\n",
       "      <td>950000.0</td>\n",
       "      <td>637.9</td>\n",
       "      <td>99475444.0</td>\n",
       "    </tr>\n",
       "    <tr>\n",
       "      <th>8</th>\n",
       "      <td>BALZAN</td>\n",
       "      <td>apartment</td>\n",
       "      <td>2.0</td>\n",
       "      <td>147000.0</td>\n",
       "      <td>148.3</td>\n",
       "      <td>21632918.0</td>\n",
       "    </tr>\n",
       "    <tr>\n",
       "      <th>9</th>\n",
       "      <td>BALZAN</td>\n",
       "      <td>apartment</td>\n",
       "      <td>3.0</td>\n",
       "      <td>150000.0</td>\n",
       "      <td>148.3</td>\n",
       "      <td>99509048.0</td>\n",
       "    </tr>\n",
       "  </tbody>\n",
       "</table>\n",
       "</div>"
      ],
      "text/plain": [
       "     locality       property_type  bedrooms  price_euro  size_sqm     contact\n",
       "0      BALZAN           apartment       3.0    152000.0     148.3  21632918.0\n",
       "1   GOZONADUR  house of character       3.0    293000.0     241.9  79470419.0\n",
       "2  MARSASCALA           apartment       2.0     85000.0     148.3  21632919.0\n",
       "3       QAWRA           apartment       3.0    140000.0     148.3  99056212.0\n",
       "4    SIĠĠIEWI          maisonette       3.0    120000.0     177.6  99826148.0\n",
       "5  STPAULSBAY           apartment       3.0    250000.0     148.3  99220023.0\n",
       "6     TAXBIEX               villa       3.0    850000.0     447.3  99252868.0\n",
       "7      ŻEBBUĠ           farmhouse       3.0    950000.0     637.9  99475444.0\n",
       "8      BALZAN           apartment       2.0    147000.0     148.3  21632918.0\n",
       "9      BALZAN           apartment       3.0    150000.0     148.3  99509048.0"
      ]
     },
     "execution_count": 18,
     "metadata": {},
     "output_type": "execute_result"
    }
   ],
   "source": [
    "df_clean = pd.DataFrame()\n",
    "df_clean['locality'] = df_no_outlier['locality'] \n",
    "df_clean['property_type'] = df_no_outlier['property_type'] \n",
    "#df_clean['bedrooms'] = df_no_outlier['bedrooms'] \n",
    "\n",
    "#replace nan of bedrooms by resp average\n",
    "df_clean['bedrooms'] = list(map(lambda bedrooms, property_type:\n",
    "    bedrooms_mean[property_type] if np.isnan(bedrooms) else bedrooms, df_no_outlier['bedrooms'],df_no_outlier['property_type']))\n",
    "\n",
    "#replace nan of price by resp average\n",
    "df_clean['price_euro'] = list(map(lambda price, property_type:\n",
    "    int(price_mean[property_type]) if np.isnan(price) else price, df_no_outlier['price_euro'],df_no_outlier['property_type']))\n",
    "df_clean\n",
    "\n",
    "#replace nan of size by resp average\n",
    "df_clean['size_sqm'] = list(map(lambda size, property_type:\n",
    "    size_mean[property_type] if np.isnan(size) else size, df_no_outlier['size_sqm'],df_no_outlier['property_type']))\n",
    "\n",
    "df_clean['contact'] = df_no_outlier['contact']\n",
    "df_clean.head(10)"
   ]
  },
  {
   "cell_type": "code",
   "execution_count": 19,
   "metadata": {},
   "outputs": [],
   "source": [
    "#make sure that none of the columns of the price is empty\n",
    "df_clean = df_clean[~df_clean['price_euro'].isnull()]\n",
    "df_clean['price_euro'] = df_clean['price_euro'].astype(int)\n",
    "#df_clean.head(2)\n",
    "#may improve by imputing price according to both location and property type "
   ]
  },
  {
   "cell_type": "code",
   "execution_count": 20,
   "metadata": {},
   "outputs": [],
   "source": [
    "#save the cleaned data to csv\n",
    "df_clean.to_csv(\"cleaned_property_data.csv\", index = False)"
   ]
  },
  {
   "cell_type": "markdown",
   "metadata": {},
   "source": [
    "# Question (c): Make Statements about Different Aspects of Data"
   ]
  },
  {
   "cell_type": "markdown",
   "metadata": {},
   "source": [
    "# Statement 1: Price according to Property Type "
   ]
  },
  {
   "cell_type": "code",
   "execution_count": 46,
   "metadata": {},
   "outputs": [
    {
     "data": {
      "text/plain": [
       "<matplotlib.axes._subplots.AxesSubplot at 0x7f75af2c3cf8>"
      ]
     },
     "execution_count": 46,
     "metadata": {},
     "output_type": "execute_result"
    },
    {
     "data": {
      "image/png": "[encoded data removed]",
      "text/plain": [
       "<Figure size 432x288 with 1 Axes>"
      ]
     },
     "metadata": {
      "needs_background": "light"
     },
     "output_type": "display_data"
    }
   ],
   "source": [
    "#analyse the price according to the property type\n",
    "df_stat1 = df_clean.groupby('property_type')['price_euro'].mean().astype(int)\n",
    "\n",
    "plt.figure()\n",
    "plt.title(\"Bar Graph of properties' prices\")\n",
    "plt.ylabel(\"Price (Euro)\")\n",
    "df_stat1.sort_values(ascending=False).plot(kind='bar')"
   ]
  },
  {
   "cell_type": "markdown",
   "metadata": {},
   "source": [
    "# Statement 2 - Localities having most properties for sale"
   ]
  },
  {
   "cell_type": "code",
   "execution_count": 47,
   "metadata": {},
   "outputs": [
    {
     "data": {
      "text/plain": [
       "<matplotlib.axes._subplots.AxesSubplot at 0x7f75a32738d0>"
      ]
     },
     "execution_count": 47,
     "metadata": {},
     "output_type": "execute_result"
    },
    {
     "data": {
      "image/png": "[encoded data removed]",
      "text/plain": [
       "<Figure size 432x288 with 1 Axes>"
      ]
     },
     "metadata": {
      "needs_background": "light"
     },
     "output_type": "display_data"
    }
   ],
   "source": [
    "#analyse how many properties for sale there are in each locality\n",
    "df_stat2 = df_clean.groupby(['locality'])['locality'].count()\n",
    "df_stat2 = df_stat2.sort_values(ascending=False)\n",
    "plt.figure()\n",
    "plt.title(\"Bar Graoh of Top 10 Localities with most properties for sale\")\n",
    "plt.ylabel(\"Count\")\n",
    "df_stat2.head(10).plot(kind='bar')"
   ]
  },
  {
   "cell_type": "markdown",
   "metadata": {},
   "source": [
    "# Statement 3 - Most Cheap Localities to buy an Apartment"
   ]
  },
  {
   "cell_type": "code",
   "execution_count": 23,
   "metadata": {},
   "outputs": [
    {
     "data": {
      "text/plain": [
       "locality\n",
       "GOZOMUNXAR         98576\n",
       "GOZOSANNAT        107521\n",
       "GOZOMARSALFORN    115000\n",
       "PAOLA             115133\n",
       "GUDJA             116051\n",
       "GOZOFONTANA       126243\n",
       "ŻEJTUN            126810\n",
       "FGURA             126918\n",
       "TARXIEN           131358\n",
       "GOZOXEWKIJA       131381\n",
       "Name: price_euro, dtype: int64"
      ]
     },
     "execution_count": 23,
     "metadata": {},
     "output_type": "execute_result"
    }
   ],
   "source": [
    "#analyse how many properties for sale there are in each locality\n",
    "df_stat3 = df_clean[df_clean['property_type'] == 'apartment'].groupby('locality')['price_euro'].mean()\n",
    "df_stat3 = df_stat3.sort_values(ascending=True)\n",
    "\n",
    "df_stat3.head(10).astype(int)\n",
    "#plt.figure()\n",
    "#plt.title(\"Histogram of Top 10 most cheapest localities to buy an apartment in\")\n",
    "#plt.ylabel(\"Price (Euro)\")\n",
    "#df_stat3.head(10).plot(kind='bar')"
   ]
  },
  {
   "cell_type": "markdown",
   "metadata": {},
   "source": [
    "# Statement 4 - Most Common number of Bedrooms"
   ]
  },
  {
   "cell_type": "code",
   "execution_count": 48,
   "metadata": {},
   "outputs": [
    {
     "data": {
      "text/plain": [
       "<matplotlib.axes._subplots.AxesSubplot at 0x7f75a3c06f60>"
      ]
     },
     "execution_count": 48,
     "metadata": {},
     "output_type": "execute_result"
    },
    {
     "data": {
      "image/png": "[encoded data removed]",
      "text/plain": [
       "<Figure size 432x288 with 1 Axes>"
      ]
     },
     "metadata": {
      "needs_background": "light"
     },
     "output_type": "display_data"
    }
   ],
   "source": [
    "#analyse the count of the number of bedrooms\n",
    "df_stat4 = df_clean.groupby('bedrooms')['bedrooms'].count()\n",
    "df_stat4 = df_stat4.sort_values(ascending=False)\n",
    "plt.figure()\n",
    "plt.title(\"Bar Graph of Number of Bedrooms\")\n",
    "plt.ylabel(\"Count\")\n",
    "df_stat4.head(10).plot(kind='bar')"
   ]
  },
  {
   "cell_type": "markdown",
   "metadata": {},
   "source": [
    "# Statement 5 - Most Common type of Property for Sale"
   ]
  },
  {
   "cell_type": "code",
   "execution_count": 25,
   "metadata": {},
   "outputs": [
    {
     "data": {
      "text/plain": [
       "<matplotlib.axes._subplots.AxesSubplot at 0x7f75a3b32860>"
      ]
     },
     "execution_count": 25,
     "metadata": {},
     "output_type": "execute_result"
    },
    {
     "data": {
      "image/png": "[encoded data removed]",
      "text/plain": [
       "<Figure size 432x288 with 1 Axes>"
      ]
     },
     "metadata": {
      "needs_background": "light"
     },
     "output_type": "display_data"
    }
   ],
   "source": [
    "#analyse which are the most common types of properties for sale\n",
    "df_stat5 = df_clean.groupby(['property_type'])['property_type'].count()\n",
    "df_stat5 = df_stat5.sort_values(ascending=False)\n",
    "plt.figure()\n",
    "plt.title(\"Occurence of Property Type for Sale\")\n",
    "plt.ylabel(\"Count\")\n",
    "df_stat5.plot(kind='bar')"
   ]
  },
  {
   "cell_type": "markdown",
   "metadata": {},
   "source": [
    "# Question (d): Correlation between two Variables in the dataset"
   ]
  },
  {
   "cell_type": "code",
   "execution_count": 26,
   "metadata": {},
   "outputs": [
    {
     "name": "stdout",
     "output_type": "stream",
     "text": [
      "Pearson Correlation between property size and property price is  0.3135\n"
     ]
    }
   ],
   "source": [
    "#correlation between property size and property price\n",
    "correlation = stats.pearsonr(df_clean['bedrooms'].dropna(), df_clean['price_euro'].dropna())[0]\n",
    "print(\"Pearson Correlation between property size and property price is \", \"{:.4f}\".format(correlation))"
   ]
  },
  {
   "cell_type": "code",
   "execution_count": 27,
   "metadata": {},
   "outputs": [
    {
     "data": {
      "text/plain": [
       "<matplotlib.axes._subplots.AxesSubplot at 0x7f75a3aae978>"
      ]
     },
     "execution_count": 27,
     "metadata": {},
     "output_type": "execute_result"
    },
    {
     "data": {
      "image/png": "[encoded data removed]",
      "text/plain": [
       "<Figure size 432x288 with 1 Axes>"
      ]
     },
     "metadata": {
      "needs_background": "light"
     },
     "output_type": "display_data"
    }
   ],
   "source": [
    "df_clean.plot.scatter(x='bedrooms',y='price_euro',c='DarkBlue')"
   ]
  },
  {
   "cell_type": "markdown",
   "metadata": {},
   "source": [
    "# Question (e): Statistical Analyses"
   ]
  },
  {
   "cell_type": "code",
   "execution_count": 28,
   "metadata": {},
   "outputs": [],
   "source": [
    "#H0 = Prices of properties depend on size (in sqm) of that respective property.\n",
    "#H1 = Prices of properties is independent of the size of that property."
   ]
  },
  {
   "cell_type": "code",
   "execution_count": 29,
   "metadata": {},
   "outputs": [
    {
     "data": {
      "text/plain": [
       "Ttest_indResult(statistic=-303.69968636205783, pvalue=0.0)"
      ]
     },
     "execution_count": 29,
     "metadata": {},
     "output_type": "execute_result"
    }
   ],
   "source": [
    "bedrooms = df_clean['bedrooms']\n",
    "price = df_clean['price_euro']\n",
    "stats.ttest_ind(bedrooms, price)"
   ]
  },
  {
   "cell_type": "code",
   "execution_count": 30,
   "metadata": {},
   "outputs": [
    {
     "name": "stdout",
     "output_type": "stream",
     "text": [
      "Since the resulting p-value is smaller than alpha threshold, null hypothesis is rejected. Thus, property prices do not depend on the number of bedrooms.\n"
     ]
    }
   ],
   "source": [
    "print(\"Since the resulting p-value is smaller than alpha threshold, null hypothesis is rejected. Thus, property prices do not depend on the number of bedrooms.\")   "
   ]
  },
  {
   "cell_type": "markdown",
   "metadata": {},
   "source": [
    "# Question (f): Predictive Model"
   ]
  },
  {
   "cell_type": "code",
   "execution_count": 31,
   "metadata": {},
   "outputs": [],
   "source": [
    "X = df_clean[[\"size_sqm\"]].values\n",
    "Y = df_clean[['price_euro']].values"
   ]
  },
  {
   "cell_type": "code",
   "execution_count": 32,
   "metadata": {},
   "outputs": [],
   "source": [
    "linear_regression = LinearRegression()"
   ]
  },
  {
   "cell_type": "code",
   "execution_count": 34,
   "metadata": {
    "scrolled": true
   },
   "outputs": [
    {
     "data": {
      "image/png": "[encoded data removed]",
      "text/plain": [
       "<Figure size 432x288 with 1 Axes>"
      ]
     },
     "metadata": {
      "needs_background": "light"
     },
     "output_type": "display_data"
    }
   ],
   "source": [
    "linear_regression.fit(X, Y)\n",
    "prediction_space = np.linspace(min(X),max(X)).reshape(-1, 1)\n",
    "plt.scatter(X, Y, color='blue', label='data')\n",
    "plt.plot(prediction_space, linear_regression.predict(prediction_space),color='black', label='regression line', linewidth=3)\n",
    "plt.ylabel(\"Price (Euro)\")\n",
    "plt.xlabel(\"Size (sqm)\")\n",
    "plt.legend()\n",
    "plt.title(\"Linear Regression Model\")\n",
    "plt.show()"
   ]
  },
  {
   "cell_type": "code",
   "execution_count": 35,
   "metadata": {},
   "outputs": [
    {
     "name": "stdout",
     "output_type": "stream",
     "text": [
      "The score of the linear regression model is  0.5450523139515525\n"
     ]
    }
   ],
   "source": [
    " #R^2 which tells us how good our line fit is \n",
    "print(\"The score of the linear regression model is \", linear_regression.score(X,y))"
   ]
  },
  {
   "cell_type": "code",
   "execution_count": 36,
   "metadata": {},
   "outputs": [
    {
     "name": "stdout",
     "output_type": "stream",
     "text": [
      "The coefficients are  [[1415.87695734]]\n"
     ]
    }
   ],
   "source": [
    "print(\"The coefficients are \", linear_regression.coef_) #only one coef since regression line is a straight line"
   ]
  },
  {
   "cell_type": "code",
   "execution_count": 37,
   "metadata": {},
   "outputs": [
    {
     "name": "stdout",
     "output_type": "stream",
     "text": [
      "The y-intercept is  [12569.39309078]\n"
     ]
    }
   ],
   "source": [
    "print(\"The y-intercept is \", linear_regression.intercept_)"
   ]
  },
  {
   "cell_type": "code",
   "execution_count": null,
   "metadata": {},
   "outputs": [],
   "source": [
    "#usually split our data into two subsets: training data and testing data  \n",
    "#then we fit our model on the train data, in order to make predictions on the test data\n",
    "#one of two thing might happen: we overfit our model or we underfit our model. \n",
    "#overfit - model we trained has trained “too well” and is now fits too closely to the training dataset, happens when model is too complex, model will be very accurate on the training data but will probably be very not accurate on untrained or new data\n",
    "#underfit - model does not fit the training data, misses the trends in the data, model cannot be generalized to new data"
   ]
  },
  {
   "cell_type": "code",
   "execution_count": 38,
   "metadata": {},
   "outputs": [
    {
     "name": "stdout",
     "output_type": "stream",
     "text": [
      "(29459, 1) (29459, 1)\n",
      "(7365, 1) (7365, 1)\n"
     ]
    }
   ],
   "source": [
    "#training and testing\n",
    "x_training, x_testing, y_training, y_testing = train_test_split(X, Y, test_size=0.2) #test_size indicates percentage of data that should be kept for testing\n",
    "print (x_training.shape, y_training.shape)\n",
    "print (x_testing.shape, y_testing.shape)"
   ]
  },
  {
   "cell_type": "code",
   "execution_count": 39,
   "metadata": {},
   "outputs": [
    {
     "data": {
      "text/plain": [
       "LinearRegression(copy_X=True, fit_intercept=True, n_jobs=None,\n",
       "         normalize=False)"
      ]
     },
     "execution_count": 39,
     "metadata": {},
     "output_type": "execute_result"
    }
   ],
   "source": [
    "#fit the model on the training data\n",
    "# fit a model\n",
    "lm = LinearRegression()\n",
    "model = lm.fit(x_training, y_training)\n",
    "model"
   ]
  },
  {
   "cell_type": "code",
   "execution_count": 40,
   "metadata": {},
   "outputs": [
    {
     "data": {
      "text/plain": [
       "array([[222272.74862805],\n",
       "       [217590.06143044],\n",
       "       [222272.74862805],\n",
       "       ...,\n",
       "       [222272.74862805],\n",
       "       [355090.78550574],\n",
       "       [182115.15841823]])"
      ]
     },
     "execution_count": 40,
     "metadata": {},
     "output_type": "execute_result"
    }
   ],
   "source": [
    "prediction = lm.predict(x_testing)\n",
    "prediction"
   ]
  },
  {
   "cell_type": "code",
   "execution_count": 41,
   "metadata": {},
   "outputs": [
    {
     "data": {
      "text/plain": [
       "(array([-500000.,       0.,  500000., 1000000., 1500000., 2000000.,\n",
       "        2500000., 3000000.]), <a list of 8 Text xticklabel objects>)"
      ]
     },
     "execution_count": 41,
     "metadata": {},
     "output_type": "execute_result"
    },
    {
     "data": {
      "image/png": "[encoded data removed]",
      "text/plain": [
       "<Figure size 432x288 with 1 Axes>"
      ]
     },
     "metadata": {
      "needs_background": "light"
     },
     "output_type": "display_data"
    }
   ],
   "source": [
    "#plot the model\n",
    "plt.scatter(y_testing, prediction)\n",
    "plt.xlabel('True Values')\n",
    "plt.ylabel('Predictions')\n",
    "plt.title(\"True Values vs Actual Values\")\n",
    "plt.xticks(rotation=90)"
   ]
  },
  {
   "cell_type": "code",
   "execution_count": 42,
   "metadata": {},
   "outputs": [
    {
     "name": "stdout",
     "output_type": "stream",
     "text": [
      "The accuracy score of the linear regression model is  0.5345212299630466\n"
     ]
    }
   ],
   "source": [
    "print(\"The accuracy score of the linear regression model is \", model.score(x_testing, y_testing))"
   ]
  },
  {
   "cell_type": "code",
   "execution_count": null,
   "metadata": {},
   "outputs": [],
   "source": []
  },
  {
   "cell_type": "code",
   "execution_count": null,
   "metadata": {},
   "outputs": [],
   "source": []
  },
  {
   "cell_type": "code",
   "execution_count": null,
   "metadata": {},
   "outputs": [],
   "source": []
  },
  {
   "cell_type": "code",
   "execution_count": null,
   "metadata": {},
   "outputs": [],
   "source": []
  }
 ],
 "metadata": {
  "kernelspec": {
   "display_name": "Python 3",
   "language": "python",
   "name": "python3"
  },
  "language_info": {
   "codemirror_mode": {
    "name": "ipython",
    "version": 3
   },
   "file_extension": ".py",
   "mimetype": "text/x-python",
   "name": "python",
   "nbconvert_exporter": "python",
   "pygments_lexer": "ipython3",
   "version": "3.6.6"
  }
 },
 "nbformat": 4,
 "nbformat_minor": 2
}
